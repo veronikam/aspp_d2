{
 "metadata": {
  "celltoolbar": "Slideshow",
  "kernelspec": {
   "codemirror_mode": {
    "name": "ipython",
    "version": 2
   },
   "display_name": "IPython (Python 2)",
   "language": "python",
   "name": "python2"
  },
  "signature": "sha256:e4e6f906298c4803412fbfe52dbfbc5675b8ee7da9224f42835476e460427921"
 },
 "nbformat": 3,
 "nbformat_minor": 0,
 "worksheets": [
  {
   "cells": [
    {
     "cell_type": "markdown",
     "metadata": {
      "internals": {
       "slide_helper": "subslide_end",
       "slide_type": "subslide"
      },
      "slide_helper": "subslide_end",
      "slideshow": {
       "slide_type": "slide"
      }
     },
     "source": [
      "# The NumPy array\n",
      "\n",
      "## A structure for efficient numerical computation\n",
      "\n",
      "<span style=\"font-size: 140%;\">\n",
      "St\u00e9fan van der Walt (@stefanvdwalt)<br/>\n",
      "Stellenbosch University, South Africa<br/>\n",
      "Advanced Scientific Programming in Python\n",
      "</span>\n",
      "\n",
      "<span style=\"font-size: 130%; text-align: right;\">\n",
      "Summer School 2013\n",
      "held at Split, Croatia\n",
      "</span>\n",
      "\n",
      "Accompanying **problem sets** are on the Wiki at:\n",
      " https://python.g-node.org/wiki/numpy"
     ]
    },
    {
     "cell_type": "markdown",
     "metadata": {
      "internals": {
       "slide_helper": "subslide_end",
       "slide_type": "subslide"
      },
      "slide_helper": "subslide_end",
      "slideshow": {
       "slide_type": "subslide"
      }
     },
     "source": [
      "<img src=\"images/overview.png\" width=\"80%\"/>"
     ]
    },
    {
     "cell_type": "markdown",
     "metadata": {
      "internals": {
       "slide_helper": "subslide_end",
       "slide_type": "subslide"
      },
      "slide_helper": "subslide_end",
      "slideshow": {
       "slide_type": "subslide"
      }
     },
     "source": [
      "## Num-what?\n",
      "\n",
      "This talk discusses some of the more advanced NumPy features. If you\u2019ve\n",
      "never seen NumPy before, you may have more fun doing the tutorial at\n",
      "\n",
      "http://mentat.za.net/numpy/intro/intro.html\n",
      "\n",
      "or studying the course notes at\n",
      "\n",
      "http://scipy-lectures.github.io\n",
      "\n",
      "You can always catch up by reading:\n",
      "\n",
      "\n",
      ">  **The NumPy array: a structure for efficient numerical computation**. St\u00e9fan\n",
      ">  van der Walt, S. Chris Colbert and Ga\u00ebl Varoquaux. In IEEE Computing in\n",
      ">  Science Engineering, March/April 2011."
     ]
    },
    {
     "cell_type": "markdown",
     "metadata": {
      "internals": {
       "slide_type": "subslide"
      },
      "slideshow": {
       "slide_type": "subslide"
      }
     },
     "source": [
      "## Setup"
     ]
    },
    {
     "cell_type": "code",
     "collapsed": false,
     "input": [
      "import numpy as np  # We always use this convention,\n",
      "                    # also in the documentation"
     ],
     "language": "python",
     "metadata": {
      "internals": {},
      "slideshow": {
       "slide_type": "-"
      }
     },
     "outputs": [],
     "prompt_number": 3
    },
    {
     "cell_type": "code",
     "collapsed": false,
     "input": [
      "print np.__version__    # version 1.7 or greater\n",
      "                        # Version 1.9 released 7th of September!"
     ],
     "language": "python",
     "metadata": {
      "internals": {
       "slide_helper": "subslide_end"
      },
      "slide_helper": "subslide_end",
      "slideshow": {
       "slide_type": "-"
      }
     },
     "outputs": [
      {
       "output_type": "stream",
       "stream": "stdout",
       "text": [
        "1.9.0.dev-89d9add\n"
       ]
      }
     ],
     "prompt_number": 4
    },
    {
     "cell_type": "markdown",
     "metadata": {
      "internals": {
       "slide_type": "subslide"
      },
      "slideshow": {
       "slide_type": "subslide"
      }
     },
     "source": [
      "ATLAS is a fast implementation of BLAS (Basic Linear Algebra Routines).  On\n",
      "OSX you have Accelerate; students can get Intel's MKL for free. On Ubuntu,\n",
      "install ``libatlas3-base``.\n",
      "\n",
      "Make use of IPython's powerful features! TAB-completion, documentation, source\n",
      "inspection, timing, cpaste, etc."
     ]
    },
    {
     "cell_type": "code",
     "collapsed": false,
     "input": [
      "print np.show_config () # got ATLAS / Accelerate / MKL?"
     ],
     "language": "python",
     "metadata": {
      "internals": {
       "slide_helper": "subslide_end"
      },
      "slide_helper": "slide_end",
      "slideshow": {
       "slide_type": "-"
      }
     },
     "outputs": [
      {
       "output_type": "stream",
       "stream": "stdout",
       "text": [
        "atlas_threads_info:\n",
        "  NOT AVAILABLE\n",
        "blas_opt_info:\n",
        "    libraries = ['f77blas', 'cblas', 'atlas']\n",
        "    library_dirs = ['/usr/lib/atlas-base']\n",
        "    define_macros = [('ATLAS_INFO', '\"\\\\\"3.10.1\\\\\"\"')]\n",
        "    language = c\n",
        "    include_dirs = ['/usr/include/atlas']\n",
        "atlas_blas_threads_info:\n",
        "  NOT AVAILABLE\n",
        "openblas_info:\n",
        "  NOT AVAILABLE\n",
        "lapack_opt_info:\n",
        "    libraries = ['lapack', 'f77blas', 'cblas', 'atlas']\n",
        "    library_dirs = ['/usr/lib/atlas-base/atlas', '/usr/lib/atlas-base']\n",
        "    define_macros = [('ATLAS_INFO', '\"\\\\\"3.10.1\\\\\"\"')]\n",
        "    language = f77\n",
        "    include_dirs = ['/usr/include/atlas']\n",
        "openblas_lapack_info:\n",
        "  NOT AVAILABLE\n",
        "atlas_info:\n",
        "    libraries = ['lapack', 'f77blas', 'cblas', 'atlas']\n",
        "    library_dirs = ['/usr/lib/atlas-base/atlas', '/usr/lib/atlas-base']\n",
        "    define_macros = [('ATLAS_INFO', '\"\\\\\"3.10.1\\\\\"\"')]\n",
        "    language = f77\n",
        "    include_dirs = ['/usr/include/atlas']\n",
        "lapack_mkl_info:\n",
        "  NOT AVAILABLE\n",
        "blas_mkl_info:\n",
        "  NOT AVAILABLE\n",
        "atlas_blas_info:\n",
        "    libraries = ['f77blas', 'cblas', 'atlas']\n",
        "    library_dirs = ['/usr/lib/atlas-base']\n",
        "    define_macros = [('ATLAS_INFO', '\"\\\\\"3.10.1\\\\\"\"')]\n",
        "    language = c\n",
        "    include_dirs = ['/usr/include/atlas']\n",
        "mkl_info:\n",
        "  NOT AVAILABLE\n",
        "None\n"
       ]
      }
     ],
     "prompt_number": 4
    },
    {
     "cell_type": "markdown",
     "metadata": {
      "internals": {
       "slide_type": "subslide"
      },
      "slideshow": {
       "slide_type": "slide"
      }
     },
     "source": [
      "## The NumPy ndarray\n",
      "\n",
      "### Revision: Structure of an array"
     ]
    },
    {
     "cell_type": "markdown",
     "metadata": {
      "internals": {
       "slide_helper": "subslide_end"
      },
      "slide_helper": "subslide_end",
      "slideshow": {
       "slide_type": "-"
      }
     },
     "source": [
      "<img src=\"images/array_memory_presentation.png\" width=\"80%\"/>"
     ]
    },
    {
     "cell_type": "markdown",
     "metadata": {
      "internals": {
       "slide_helper": "subslide_end",
       "slide_type": "subslide"
      },
      "slide_helper": "subslide_end",
      "slideshow": {
       "slide_type": "subslide"
      }
     },
     "source": [
      "<img src=\"images/ndarray_struct.png\" width=\"50%\"/>"
     ]
    },
    {
     "cell_type": "markdown",
     "metadata": {
      "internals": {
       "slide_helper": "subslide_end",
       "slide_type": "subslide"
      },
      "slide_helper": "subslide_end",
      "slideshow": {
       "slide_type": "subslide"
      }
     },
     "source": [
      "Taking a look at ``numpy/core/include/numpy/ndarraytypes.h``:\n",
      "\n",
      "```cpp\n",
      "ndarray typedef struct PyArrayObject {\n",
      "    PyObject_HEAD\n",
      "    char *data;             /* pointer to data buffer */\n",
      "    int nd;                 /* number of dimensions */\n",
      "    npy_intp *dimensions;   /* size in each dimension */\n",
      "    npy_intp *strides;      /* bytes to jump to get\n",
      "                             * to the next element in\n",
      "                             * each dimension\n",
      "                             */\n",
      "    PyObject *base;         /* Pointer to original array\n",
      "                            /* Decref this object */\n",
      "                            /* upon deletion. */\n",
      "    PyArray_Descr *descr;   /* Pointer to type struct */\n",
      "    int flags;              /* Flags */\n",
      "    PyObject *weakreflist;  /* For weakreferences */\n",
      "} PyArrayObject ;\n",
      "```"
     ]
    },
    {
     "cell_type": "markdown",
     "metadata": {
      "internals": {
       "slide_type": "subslide"
      },
      "slideshow": {
       "slide_type": "subslide"
      }
     },
     "source": [
      "## A homogeneous container"
     ]
    },
    {
     "cell_type": "markdown",
     "metadata": {
      "internals": {},
      "slideshow": {
       "slide_type": "-"
      }
     },
     "source": [
      "```cpp\n",
      "char *data;  /* pointer to data buffer */\n",
      "```"
     ]
    },
    {
     "cell_type": "markdown",
     "metadata": {
      "internals": {},
      "slideshow": {
       "slide_type": "-"
      }
     },
     "source": [
      "Data is just a pointer to bytes in memory:"
     ]
    },
    {
     "cell_type": "markdown",
     "metadata": {
      "internals": {},
      "slideshow": {
       "slide_type": "-"
      }
     },
     "source": [
      "<img src=\"images/array_dtype.png\"/ width=\"60%\">"
     ]
    },
    {
     "cell_type": "code",
     "collapsed": false,
     "input": [
      "x = np.array([1, 2, 3])"
     ],
     "language": "python",
     "metadata": {
      "internals": {},
      "slideshow": {
       "slide_type": "-"
      }
     },
     "outputs": [],
     "prompt_number": 5
    },
    {
     "cell_type": "code",
     "collapsed": false,
     "input": [
      "x.dtype"
     ],
     "language": "python",
     "metadata": {
      "internals": {},
      "slideshow": {
       "slide_type": "-"
      }
     },
     "outputs": [
      {
       "metadata": {},
       "output_type": "pyout",
       "prompt_number": 6,
       "text": [
        "dtype('int64')"
       ]
      }
     ],
     "prompt_number": 6
    },
    {
     "cell_type": "code",
     "collapsed": false,
     "input": [
      "x.__array_interface__['data']"
     ],
     "language": "python",
     "metadata": {
      "internals": {},
      "slideshow": {
       "slide_type": "-"
      }
     },
     "outputs": [
      {
       "metadata": {},
       "output_type": "pyout",
       "prompt_number": 7,
       "text": [
        "(43382288, False)"
       ]
      }
     ],
     "prompt_number": 7
    },
    {
     "cell_type": "code",
     "collapsed": false,
     "input": [
      "str(x.data)"
     ],
     "language": "python",
     "metadata": {
      "internals": {},
      "slideshow": {
       "slide_type": "-"
      }
     },
     "outputs": [
      {
       "metadata": {},
       "output_type": "pyout",
       "prompt_number": 16,
       "text": [
        "'\\x01\\x00\\x00\\x00\\x00\\x00\\x00\\x00\\x02\\x00\\x00\\x00\\x00\\x00\\x00\\x00\\x03\\x00\\x00\\x00\\x00\\x00\\x00\\x00'"
       ]
      }
     ],
     "prompt_number": 16
    },
    {
     "cell_type": "code",
     "collapsed": false,
     "input": [
      "[ord(b) for b in x.data]"
     ],
     "language": "python",
     "metadata": {
      "internals": {
       "slide_helper": "subslide_end"
      },
      "slide_helper": "subslide_end",
      "slideshow": {
       "slide_type": "-"
      }
     },
     "outputs": [
      {
       "metadata": {},
       "output_type": "pyout",
       "prompt_number": 14,
       "text": [
        "[1, 0, 0, 0, 0, 0, 0, 0, 2, 0, 0, 0, 0, 0, 0, 0, 3, 0, 0, 0, 0, 0, 0, 0]"
       ]
      }
     ],
     "prompt_number": 14
    },
    {
     "cell_type": "markdown",
     "metadata": {
      "internals": {
       "slide_type": "subslide"
      },
      "slideshow": {
       "slide_type": "subslide"
      }
     },
     "source": [
      "## Dimensions"
     ]
    },
    {
     "cell_type": "markdown",
     "metadata": {
      "internals": {},
      "slideshow": {
       "slide_type": "-"
      }
     },
     "source": [
      "```cpp\n",
      "int nd;\n",
      "npy_intp *dimensions; /* number of dimensions */\n",
      "                      /* size in each dimension */\n",
      "```"
     ]
    },
    {
     "cell_type": "markdown",
     "metadata": {
      "internals": {
       "slide_helper": "subslide_end"
      },
      "slide_helper": "subslide_end",
      "slideshow": {
       "slide_type": "-"
      }
     },
     "source": [
      "<img src=\"images/array_flat_extended.png\" width=\"80%\"/>\n",
      "<br/>\n",
      "<div style=\"text-align: center;\">\n",
      "<img style=\"display: inline;\" src=\"images/array_reshape.png\" width=\"40%\"/>\n",
      "<img style=\"display: inline;\" src=\"images/array_reshape_nd.png\" width=\"40%\"/>\n",
      "</div>\n"
     ]
    },
    {
     "cell_type": "code",
     "collapsed": false,
     "input": [
      "x = np.array([])"
     ],
     "language": "python",
     "metadata": {
      "internals": {
       "slide_type": "subslide"
      },
      "slideshow": {
       "slide_type": "subslide"
      }
     },
     "outputs": [],
     "prompt_number": 2
    },
    {
     "cell_type": "code",
     "collapsed": false,
     "input": [
      "np.array(0).shape"
     ],
     "language": "python",
     "metadata": {
      "internals": {},
      "slideshow": {
       "slide_type": "-"
      }
     },
     "outputs": [
      {
       "metadata": {},
       "output_type": "pyout",
       "prompt_number": 3,
       "text": [
        "()"
       ]
      }
     ],
     "prompt_number": 3
    },
    {
     "cell_type": "code",
     "collapsed": false,
     "input": [
      "x = np.random.random((3, 2, 3, 3))\n",
      "x.shape"
     ],
     "language": "python",
     "metadata": {
      "internals": {},
      "slideshow": {
       "slide_type": "-"
      }
     },
     "outputs": [
      {
       "metadata": {},
       "output_type": "pyout",
       "prompt_number": 4,
       "text": [
        "(3, 2, 3, 3)"
       ]
      }
     ],
     "prompt_number": 4
    },
    {
     "cell_type": "code",
     "collapsed": false,
     "input": [
      "x.ndim"
     ],
     "language": "python",
     "metadata": {
      "internals": {
       "slide_helper": "subslide_end"
      },
      "slide_helper": "subslide_end",
      "slideshow": {
       "slide_type": "-"
      }
     },
     "outputs": [
      {
       "metadata": {},
       "output_type": "pyout",
       "prompt_number": 5,
       "text": [
        "4"
       ]
      }
     ],
     "prompt_number": 5
    },
    {
     "cell_type": "markdown",
     "metadata": {
      "internals": {
       "slide_type": "subslide"
      },
      "slideshow": {
       "slide_type": "subslide"
      }
     },
     "source": [
      "### Data type descriptors"
     ]
    },
    {
     "cell_type": "markdown",
     "metadata": {
      "internals": {},
      "slideshow": {
       "slide_type": "-"
      }
     },
     "source": [
      "```cpp\n",
      "PyArray_Descr * descr ;  /* Pointer to type struct */\n",
      "```"
     ]
    },
    {
     "cell_type": "markdown",
     "metadata": {
      "internals": {},
      "slideshow": {
       "slide_type": "-"
      }
     },
     "source": [
      "Common types in include ``int``, ``float``, ``bool``:"
     ]
    },
    {
     "cell_type": "code",
     "collapsed": false,
     "input": [
      "np.array ([-1, 0, 1], dtype=int)"
     ],
     "language": "python",
     "metadata": {
      "internals": {},
      "slideshow": {
       "slide_type": "-"
      }
     },
     "outputs": [
      {
       "metadata": {},
       "output_type": "pyout",
       "prompt_number": 6,
       "text": [
        "array([-1,  0,  1])"
       ]
      }
     ],
     "prompt_number": 6
    },
    {
     "cell_type": "code",
     "collapsed": false,
     "input": [
      "np.array([-1, 0, 1], dtype=float)"
     ],
     "language": "python",
     "metadata": {
      "internals": {},
      "slideshow": {
       "slide_type": "-"
      }
     },
     "outputs": [
      {
       "metadata": {},
       "output_type": "pyout",
       "prompt_number": 7,
       "text": [
        "array([-1.,  0.,  1.])"
       ]
      }
     ],
     "prompt_number": 7
    },
    {
     "cell_type": "code",
     "collapsed": false,
     "input": [
      "np.array([-1 , 0, 1], dtype=bool)"
     ],
     "language": "python",
     "metadata": {
      "internals": {},
      "slideshow": {
       "slide_type": "-"
      }
     },
     "outputs": [
      {
       "metadata": {},
       "output_type": "pyout",
       "prompt_number": 8,
       "text": [
        "array([ True, False,  True], dtype=bool)"
       ]
      }
     ],
     "prompt_number": 8
    },
    {
     "cell_type": "markdown",
     "metadata": {
      "internals": {},
      "slideshow": {
       "slide_type": "-"
      }
     },
     "source": [
      "Each item in the array has to have the same type (occupy a fixed nr of bytes\n",
      "in memory), but that does not mean a type has to consist of a single item:"
     ]
    },
    {
     "cell_type": "code",
     "collapsed": false,
     "input": [
      "dt = np.dtype([('value', np.int), ('status', np.bool)])\n",
      "np.array([(0, True), (1, False)], dtype=dt)"
     ],
     "language": "python",
     "metadata": {
      "internals": {},
      "slideshow": {
       "slide_type": "-"
      }
     },
     "outputs": [
      {
       "metadata": {},
       "output_type": "pyout",
       "prompt_number": 9,
       "text": [
        "array([(0, True), (1, False)], \n",
        "      dtype=[('value', '<i8'), ('status', '?')])"
       ]
      }
     ],
     "prompt_number": 9
    },
    {
     "cell_type": "markdown",
     "metadata": {
      "internals": {
       "slide_helper": "subslide_end"
      },
      "slide_helper": "subslide_end",
      "slideshow": {
       "slide_type": "-"
      }
     },
     "source": [
      "This is called a structured array."
     ]
    },
    {
     "cell_type": "markdown",
     "metadata": {
      "internals": {
       "slide_type": "subslide"
      },
      "slideshow": {
       "slide_type": "subslide"
      }
     },
     "source": [
      "### Strides"
     ]
    },
    {
     "cell_type": "markdown",
     "metadata": {
      "internals": {},
      "slideshow": {
       "slide_type": "-"
      }
     },
     "source": [
      "```cpp\n",
      "npy_intp *strides;  /* bytes to jump to get */\n",
      "                    /* to the next element */\n",
      "```"
     ]
    },
    {
     "cell_type": "code",
     "collapsed": false,
     "input": [
      "x = np.arange(12).reshape((3, 4))\n",
      "x"
     ],
     "language": "python",
     "metadata": {
      "internals": {},
      "slideshow": {
       "slide_type": "-"
      }
     },
     "outputs": [
      {
       "metadata": {},
       "output_type": "pyout",
       "prompt_number": 10,
       "text": [
        "array([[ 0,  1,  2,  3],\n",
        "       [ 4,  5,  6,  7],\n",
        "       [ 8,  9, 10, 11]])"
       ]
      }
     ],
     "prompt_number": 10
    },
    {
     "cell_type": "code",
     "collapsed": false,
     "input": [
      "x.dtype"
     ],
     "language": "python",
     "metadata": {
      "internals": {},
      "slideshow": {
       "slide_type": "-"
      }
     },
     "outputs": [
      {
       "metadata": {},
       "output_type": "pyout",
       "prompt_number": 11,
       "text": [
        "dtype('int64')"
       ]
      }
     ],
     "prompt_number": 11
    },
    {
     "cell_type": "code",
     "collapsed": false,
     "input": [
      "x.dtype.itemsize"
     ],
     "language": "python",
     "metadata": {
      "internals": {},
      "slideshow": {
       "slide_type": "-"
      }
     },
     "outputs": [
      {
       "metadata": {},
       "output_type": "pyout",
       "prompt_number": 12,
       "text": [
        "8"
       ]
      }
     ],
     "prompt_number": 12
    },
    {
     "cell_type": "code",
     "collapsed": false,
     "input": [
      "x.strides"
     ],
     "language": "python",
     "metadata": {
      "internals": {
       "slide_helper": "subslide_end"
      },
      "slide_helper": "subslide_end",
      "slideshow": {
       "slide_type": "-"
      }
     },
     "outputs": [
      {
       "metadata": {},
       "output_type": "pyout",
       "prompt_number": 13,
       "text": [
        "(32, 8)"
       ]
      }
     ],
     "prompt_number": 13
    },
    {
     "cell_type": "markdown",
     "metadata": {
      "internals": {
       "slide_type": "subslide"
      },
      "slideshow": {
       "slide_type": "subslide"
      }
     },
     "source": [
      "We see ``(4 * itemsize, itemsize)`` or ``(skip_bytes_row, skip_bytes_col)``."
     ]
    },
    {
     "cell_type": "markdown",
     "metadata": {
      "internals": {
       "slide_helper": "subslide_end"
      },
      "slide_helper": "subslide_end",
      "slideshow": {
       "slide_type": "-"
      }
     },
     "source": [
      "<img src=\"images/array_memory_dtype.png\" width=\"100%\"/>"
     ]
    },
    {
     "cell_type": "markdown",
     "metadata": {
      "internals": {
       "slide_helper": "subslide_end",
       "slide_type": "subslide"
      },
      "slide_helper": "subslide_end",
      "slideshow": {
       "slide_type": "subslide"
      }
     },
     "source": [
      "### Example: Taking the transpose\n",
      "\n",
      "We can take the transpose of the array *without* copying any data by simply manipulating ``shape`` and ``strides``.  What should they be?\n",
      "\n",
      "<img src=\"images/array_transpose_question.png\" width=\"100%\"/>"
     ]
    },
    {
     "cell_type": "markdown",
     "metadata": {
      "internals": {
       "slide_type": "subslide"
      },
      "slideshow": {
       "slide_type": "subslide"
      }
     },
     "source": [
      "### Flags"
     ]
    },
    {
     "cell_type": "markdown",
     "metadata": {
      "internals": {},
      "slideshow": {
       "slide_type": "-"
      }
     },
     "source": [
      "```cpp\n",
      "int flags;  /* Flags */\n",
      "```"
     ]
    },
    {
     "cell_type": "code",
     "collapsed": false,
     "input": [
      "x = np.array([1, 2, 3])\n",
      "z = x[::2]\n",
      "\n",
      "x.flags"
     ],
     "language": "python",
     "metadata": {
      "internals": {},
      "slideshow": {
       "slide_type": "-"
      }
     },
     "outputs": [
      {
       "metadata": {},
       "output_type": "pyout",
       "prompt_number": 16,
       "text": [
        "  C_CONTIGUOUS : True\n",
        "  F_CONTIGUOUS : True\n",
        "  OWNDATA : True\n",
        "  WRITEABLE : True\n",
        "  ALIGNED : True\n",
        "  UPDATEIFCOPY : False"
       ]
      }
     ],
     "prompt_number": 16
    },
    {
     "cell_type": "code",
     "collapsed": false,
     "input": [
      "z.flags"
     ],
     "language": "python",
     "metadata": {
      "internals": {
       "slide_helper": "subslide_end"
      },
      "slide_helper": "slide_end",
      "slideshow": {
       "slide_type": "-"
      }
     },
     "outputs": [
      {
       "metadata": {},
       "output_type": "pyout",
       "prompt_number": 17,
       "text": [
        "  C_CONTIGUOUS : False\n",
        "  F_CONTIGUOUS : False\n",
        "  OWNDATA : False\n",
        "  WRITEABLE : True\n",
        "  ALIGNED : True\n",
        "  UPDATEIFCOPY : False"
       ]
      }
     ],
     "prompt_number": 17
    },
    {
     "cell_type": "markdown",
     "metadata": {
      "internals": {
       "slide_type": "subslide"
      },
      "slideshow": {
       "slide_type": "slide"
      }
     },
     "source": [
      "## Structured arrays\n",
      "\n",
      "Like we saw earlier, each item in an array has the same type, but that does not\n",
      "mean a type has to consist of a single item:"
     ]
    },
    {
     "cell_type": "code",
     "collapsed": false,
     "input": [
      "dt = np.dtype([('value', np.int), ('status', np.bool)])\n",
      "np.array([(0, True), (1,False)], dtype=dt)"
     ],
     "language": "python",
     "metadata": {
      "internals": {},
      "slideshow": {
       "slide_type": "-"
      }
     },
     "outputs": [
      {
       "metadata": {},
       "output_type": "pyout",
       "prompt_number": 19,
       "text": [
        "array([(0, True), (1, False)], \n",
        "      dtype=[('value', '<i8'), ('status', '?')])"
       ]
      }
     ],
     "prompt_number": 19
    },
    {
     "cell_type": "markdown",
     "metadata": {
      "internals": {},
      "slideshow": {
       "slide_type": "-"
      }
     },
     "source": [
      "This is called a structured array, and is accessed like a dictionary:"
     ]
    },
    {
     "cell_type": "code",
     "collapsed": false,
     "input": [
      "x = np.array([(0, True), (1, False)], dtype=dt)\n",
      "x['value']"
     ],
     "language": "python",
     "metadata": {
      "internals": {},
      "slideshow": {
       "slide_type": "-"
      }
     },
     "outputs": [
      {
       "metadata": {},
       "output_type": "pyout",
       "prompt_number": 20,
       "text": [
        "array([0, 1])"
       ]
      }
     ],
     "prompt_number": 20
    },
    {
     "cell_type": "code",
     "collapsed": false,
     "input": [
      "x['status']"
     ],
     "language": "python",
     "metadata": {
      "internals": {},
      "slideshow": {
       "slide_type": "-"
      }
     },
     "outputs": [
      {
       "metadata": {},
       "output_type": "pyout",
       "prompt_number": 21,
       "text": [
        "array([ True, False], dtype=bool)"
       ]
      }
     ],
     "prompt_number": 21
    },
    {
     "cell_type": "markdown",
     "metadata": {
      "internals": {
       "slide_helper": "subslide_end"
      },
      "slide_helper": "subslide_end",
      "slideshow": {
       "slide_type": "subslide"
      }
     },
     "source": [
      "### Reading structured data from file\n",
      "\n",
      "<img src=\"images/radar_struct.png\" width=\"100%\"/>"
     ]
    },
    {
     "cell_type": "markdown",
     "metadata": {
      "internals": {
       "slide_type": "subslide"
      },
      "slideshow": {
       "slide_type": "subslide"
      }
     },
     "source": [
      "Reading this kind of data can be troublesome:"
     ]
    },
    {
     "cell_type": "markdown",
     "metadata": {
      "internals": {},
      "slideshow": {
       "slide_type": "-"
      }
     },
     "source": [
      "```matlab\n",
      "while ((count > 0) && (n <= NumPoints))\n",
      "  % get time - I8 [ ms ]\n",
      "  [lw, count] = fread(fid, 1, 'uint32');\n",
      "  if (count > 0) % then carry on\n",
      "  uw = fread(fid, 1, 'int32');\n",
      "  t(1, n) = (lw + uw * 2^32) / 1000;\n",
      "\n",
      "  % get number of bytes of data\n",
      "  numbytes = fread(fid, 1, 'uint32');\n",
      "\n",
      "  % read sMEASUREMENTPOSITIONINFO (11 bytes)\n",
      "  m(1, n) = fread(fid, 1, 'float32'); % az [ rad ]\n",
      "  m(2, n) = fread(fid, 1, 'float32'); % el [ rad ]\n",
      "  m(3, n) = fread(fid, 1, 'uint8');   % region type\n",
      "  m(4, n) = fread(fid, 1, 'uint16');  % region ID\n",
      "  g(1, n) = fread(fid, 1, 'uint8');\n",
      "\n",
      "  numsamples = ( numbytes -12)/2; % 2 byte int\n",
      "  ...\n",
      "```"
     ]
    },
    {
     "cell_type": "markdown",
     "metadata": {
      "internals": {},
      "slideshow": {
       "slide_type": "-"
      }
     },
     "source": [
      "Using structured arrays:\n",
      "\n",
      "```python\n",
      "dt = np.dtype([('time', np.uint64),\n",
      "               ('size', np.uint32),\n",
      "               ('position', [('az', np.float32),\n",
      "                             ('el', np.float32),\n",
      "                             ('region_type', np.uint8),\n",
      "                             ('region_ID', np.uint16)]),\n",
      "               ('gain', np.uint8),\n",
      "               ('samples', (np.int16, 2048))])\n",
      "\n",
      "data = np.fromfile(f, dtype=dt)\n",
      "```"
     ]
    },
    {
     "cell_type": "markdown",
     "metadata": {
      "internals": {
       "slide_helper": "subslide_end"
      },
      "slide_helper": "slide_end",
      "slideshow": {
       "slide_type": "-"
      }
     },
     "source": [
      "We can then access this structured array as before:\n",
      "\n",
      "```python\n",
      "data['position']['az']\n",
      "```"
     ]
    },
    {
     "cell_type": "markdown",
     "metadata": {
      "internals": {
       "slide_type": "subslide"
      },
      "slideshow": {
       "slide_type": "slide"
      }
     },
     "source": [
      "## Broadcasting\n",
      "\n",
      "Combining of differently shaped arrays without creating large intermediate\n",
      "arrays:"
     ]
    },
    {
     "cell_type": "code",
     "collapsed": false,
     "input": [
      "x = np.arange(4)\n",
      "print x\n",
      "print x + 3"
     ],
     "language": "python",
     "metadata": {
      "internals": {},
      "slideshow": {
       "slide_type": "-"
      }
     },
     "outputs": [
      {
       "output_type": "stream",
       "stream": "stdout",
       "text": [
        "[0 1 2 3]\n",
        "[3 4 5 6]\n"
       ]
      }
     ],
     "prompt_number": 28
    },
    {
     "cell_type": "markdown",
     "metadata": {
      "internals": {
       "slide_helper": "subslide_end"
      },
      "slide_helper": "subslide_end",
      "slideshow": {
       "slide_type": "-"
      }
     },
     "source": [
      "![Broadcasting in 1D](images/broadcast_1D.png)\n",
      "\n",
      "See docstring of ``np.doc.broadcasting`` for more detail."
     ]
    },
    {
     "cell_type": "markdown",
     "metadata": {
      "internals": {
       "slide_type": "subslide"
      },
      "slideshow": {
       "slide_type": "subslide"
      }
     },
     "source": [
      "## Broadcasting (2D)"
     ]
    },
    {
     "cell_type": "code",
     "collapsed": false,
     "input": [
      "a = np.arange(12).reshape((3, 4))\n",
      "b = np.array([1, 2, 3])[:, np.newaxis]\n",
      "\n",
      "print a\n",
      "print\n",
      "print b"
     ],
     "language": "python",
     "metadata": {
      "internals": {},
      "slideshow": {
       "slide_type": "-"
      }
     },
     "outputs": [
      {
       "output_type": "stream",
       "stream": "stdout",
       "text": [
        "[[ 0  1  2  3]\n",
        " [ 4  5  6  7]\n",
        " [ 8  9 10 11]]\n",
        "\n",
        "[[1]\n",
        " [2]\n",
        " [3]]\n"
       ]
      }
     ],
     "prompt_number": 33
    },
    {
     "cell_type": "code",
     "collapsed": false,
     "input": [
      "a + b"
     ],
     "language": "python",
     "metadata": {
      "internals": {},
      "slideshow": {
       "slide_type": "-"
      }
     },
     "outputs": [
      {
       "metadata": {},
       "output_type": "pyout",
       "prompt_number": 34,
       "text": [
        "array([[ 1,  2,  3,  4],\n",
        "       [ 6,  7,  8,  9],\n",
        "       [11, 12, 13, 14]])"
       ]
      }
     ],
     "prompt_number": 34
    },
    {
     "cell_type": "markdown",
     "metadata": {
      "internals": {
       "slide_helper": "subslide_end"
      },
      "slide_helper": "subslide_end",
      "slideshow": {
       "slide_type": "-"
      }
     },
     "source": [
      "<img src=\"images/broadcast_2D.png\"/>"
     ]
    },
    {
     "cell_type": "markdown",
     "metadata": {
      "internals": {
       "slide_type": "subslide"
      },
      "slideshow": {
       "slide_type": "subslide"
      }
     },
     "source": [
      "## Broadcasting (3D)"
     ]
    },
    {
     "cell_type": "code",
     "collapsed": false,
     "input": [
      "x = np.zeros((3, 5))\n",
      "y = np.zeros(8)\n",
      "z = x[..., np.newaxis]"
     ],
     "language": "python",
     "metadata": {
      "internals": {},
      "slideshow": {
       "slide_type": "-"
      }
     },
     "outputs": [],
     "prompt_number": 47
    },
    {
     "cell_type": "markdown",
     "metadata": {
      "internals": {},
      "slideshow": {
       "slide_type": "-"
      }
     },
     "source": [
      "```python\n",
      "x = np.zeros((3, 5))\n",
      "y = np.zeros(8)\n",
      "z = x[..., np.newaxis]\n",
      "```\n",
      "\n",
      "```\n",
      "X shape = (3, 5, 1)\n",
      "Y shape = (      8)\n",
      "Z shape = (3, 5, 8)\n",
      "```"
     ]
    },
    {
     "cell_type": "markdown",
     "metadata": {
      "internals": {
       "slide_helper": "subslide_end"
      },
      "slide_helper": "subslide_end",
      "slideshow": {
       "slide_type": "-"
      }
     },
     "source": [
      "<img src=\"images/broadcast_3D.png\"/>"
     ]
    },
    {
     "cell_type": "markdown",
     "metadata": {
      "internals": {
       "slide_type": "subslide"
      },
      "slideshow": {
       "slide_type": "subslide"
      }
     },
     "source": [
      "## Broadcasting rules\n",
      "\n",
      "The broadcasting rules are straightforward: compare dimensions, starting from\n",
      "the last. Match when either dimension is one or ``None``, or if dimensions are\n",
      "equal:"
     ]
    },
    {
     "cell_type": "markdown",
     "metadata": {
      "internals": {
       "slide_helper": "subslide_end"
      },
      "slide_helper": "subslide_end",
      "slideshow": {
       "slide_type": "-"
      }
     },
     "source": [
      "```\n",
      "Scalar    2D           3D           Bad\n",
      "\n",
      "( ,)     (3, 4)     (3, 5, 1)    (3, 5, 2)\n",
      "(3,)     (3, 1)     (      8)    (      8)\n",
      "----     ------     ---------    ---------\n",
      "(3,)     (3, 4)     (3, 5, 8)       XXX\n",
      "```"
     ]
    },
    {
     "cell_type": "markdown",
     "metadata": {
      "internals": {
       "slide_type": "subslide"
      },
      "slideshow": {
       "slide_type": "subslide"
      }
     },
     "source": [
      "## Explicit broadcasting"
     ]
    },
    {
     "cell_type": "code",
     "collapsed": false,
     "input": [
      "x = np.zeros((3, 5, 1))\n",
      "y = np.zeros((3, 5, 8))\n",
      "\n",
      "xx, yy = np.broadcast_arrays(x, y)\n",
      "\n",
      "xx.shape"
     ],
     "language": "python",
     "metadata": {
      "internals": {},
      "slideshow": {
       "slide_type": "-"
      }
     },
     "outputs": [
      {
       "metadata": {},
       "output_type": "pyout",
       "prompt_number": 49,
       "text": [
        "(3, 5, 8)"
       ]
      }
     ],
     "prompt_number": 49
    },
    {
     "cell_type": "markdown",
     "metadata": {
      "internals": {
       "slide_helper": "subslide_end"
      },
      "slide_helper": "subslide_end",
      "slideshow": {
       "slide_type": "-"
      }
     },
     "source": [
      "```python\n",
      "np.broadcast_arrays([1, 2, 3],\n",
      "                    [[1], [2], [3]])\n",
      "```\n",
      "\n",
      "```\n",
      "[[1 2 3]   [[1 1 1]\n",
      " [1 2 3]    [2 2 2]\n",
      " [1 2 3]]   [3 3 3]]\n",
      "```"
     ]
    },
    {
     "cell_type": "markdown",
     "metadata": {
      "internals": {
       "slide_helper": "subslide_end",
       "slide_type": "subslide"
      },
      "slide_helper": "subslide_end",
      "slideshow": {
       "slide_type": "slide"
      }
     },
     "source": [
      "## Fancy indexing\n",
      "\n",
      "An ndarray can be indexed in two ways:\n",
      "\n",
      " - Using slices and scalars\n",
      " - Using ndarrays (\"fancy indexing\")\n",
      "\n",
      "For example:"
     ]
    },
    {
     "cell_type": "code",
     "collapsed": false,
     "input": [
      "x = np.arange(9).reshape((3, 3))\n",
      "x"
     ],
     "language": "python",
     "metadata": {
      "internals": {
       "slide_type": "subslide"
      },
      "slideshow": {
       "slide_type": "subslide"
      }
     },
     "outputs": [
      {
       "metadata": {},
       "output_type": "pyout",
       "prompt_number": 56,
       "text": [
        "array([[0, 1, 2],\n",
        "       [3, 4, 5],\n",
        "       [6, 7, 8]])"
       ]
      }
     ],
     "prompt_number": 56
    },
    {
     "cell_type": "code",
     "collapsed": false,
     "input": [
      "x[:, [1, 1, 2]]"
     ],
     "language": "python",
     "metadata": {
      "internals": {},
      "slideshow": {
       "slide_type": "-"
      }
     },
     "outputs": [
      {
       "metadata": {},
       "output_type": "pyout",
       "prompt_number": 57,
       "text": [
        "array([[1, 1, 2],\n",
        "       [4, 4, 5],\n",
        "       [7, 7, 8]])"
       ]
      }
     ],
     "prompt_number": 57
    },
    {
     "cell_type": "markdown",
     "metadata": {
      "internals": {},
      "slideshow": {
       "slide_type": "-"
      }
     },
     "source": [
      "Which is equivalent to:"
     ]
    },
    {
     "cell_type": "code",
     "collapsed": false,
     "input": [
      "np.array((x[:, 1], x[:, 1], x[:, 2])).T"
     ],
     "language": "python",
     "metadata": {
      "internals": {
       "slide_helper": "subslide_end"
      },
      "slide_helper": "subslide_end",
      "slideshow": {
       "slide_type": "-"
      }
     },
     "outputs": [
      {
       "metadata": {},
       "output_type": "pyout",
       "prompt_number": 60,
       "text": [
        "array([[1, 1, 2],\n",
        "       [4, 4, 5],\n",
        "       [7, 7, 8]])"
       ]
      }
     ],
     "prompt_number": 60
    },
    {
     "cell_type": "markdown",
     "metadata": {
      "internals": {
       "slide_type": "subslide"
      },
      "slideshow": {
       "slide_type": "subslide"
      }
     },
     "source": [
      "### Output shape of an indexing op\n",
      "\n",
      "1. Broadcast all index arrays against one another.\n",
      "2. Use the dimensions of slices as-is."
     ]
    },
    {
     "cell_type": "code",
     "collapsed": false,
     "input": [
      "x = np.array([[0, 1, 2], [3, 4, 5], [6, 7, 8]])"
     ],
     "language": "python",
     "metadata": {
      "internals": {},
      "slideshow": {
       "slide_type": "-"
      }
     },
     "outputs": [],
     "prompt_number": 64
    },
    {
     "cell_type": "code",
     "collapsed": false,
     "input": [
      "x.shape"
     ],
     "language": "python",
     "metadata": {
      "internals": {},
      "slideshow": {
       "slide_type": "-"
      }
     },
     "outputs": [
      {
       "metadata": {},
       "output_type": "pyout",
       "prompt_number": 65,
       "text": [
        "(3, 3)"
       ]
      }
     ],
     "prompt_number": 65
    },
    {
     "cell_type": "markdown",
     "metadata": {
      "internals": {},
      "slideshow": {
       "slide_type": "-"
      }
     },
     "source": [
      "But what would happen if we do"
     ]
    },
    {
     "cell_type": "code",
     "collapsed": false,
     "input": [
      "idx0 = np.array([[0, 1],\n",
      "                 [1, 2]])  # row indices\n",
      "\n",
      "idx1 = np.array([[0, 1]])  # column indices"
     ],
     "language": "python",
     "metadata": {
      "internals": {},
      "slideshow": {
       "slide_type": "-"
      }
     },
     "outputs": [],
     "prompt_number": 70
    },
    {
     "cell_type": "markdown",
     "metadata": {
      "internals": {
       "slide_helper": "subslide_end"
      },
      "slide_helper": "subslide_end",
      "slideshow": {
       "slide_type": "-"
      }
     },
     "source": [
      "```python\n",
      "x[idx0, idx1]\n",
      "```"
     ]
    },
    {
     "cell_type": "markdown",
     "metadata": {
      "internals": {
       "slide_type": "subslide"
      },
      "slideshow": {
       "slide_type": "subslide"
      }
     },
     "source": [
      "### Output shape of indexing op (cont'd)"
     ]
    },
    {
     "cell_type": "code",
     "collapsed": false,
     "input": [
      "idx0.shape, idx1.shape"
     ],
     "language": "python",
     "metadata": {
      "internals": {},
      "slideshow": {
       "slide_type": "-"
      }
     },
     "outputs": [
      {
       "metadata": {},
       "output_type": "pyout",
       "prompt_number": 75,
       "text": [
        "((2, 2), (1, 2))"
       ]
      }
     ],
     "prompt_number": 75
    },
    {
     "cell_type": "code",
     "collapsed": false,
     "input": [
      "a, b = np.broadcast_arrays(idx0, idx1)\n",
      "a"
     ],
     "language": "python",
     "metadata": {
      "internals": {},
      "slideshow": {
       "slide_type": "-"
      }
     },
     "outputs": [
      {
       "metadata": {},
       "output_type": "pyout",
       "prompt_number": 85,
       "text": [
        "array([[0, 1],\n",
        "       [1, 2]])"
       ]
      }
     ],
     "prompt_number": 85
    },
    {
     "cell_type": "code",
     "collapsed": false,
     "input": [
      "b"
     ],
     "language": "python",
     "metadata": {
      "internals": {},
      "slideshow": {
       "slide_type": "-"
      }
     },
     "outputs": [
      {
       "metadata": {},
       "output_type": "pyout",
       "prompt_number": 86,
       "text": [
        "array([[0, 1],\n",
        "       [0, 1]])"
       ]
      }
     ],
     "prompt_number": 86
    },
    {
     "cell_type": "code",
     "collapsed": false,
     "input": [
      "x"
     ],
     "language": "python",
     "metadata": {
      "internals": {},
      "slideshow": {
       "slide_type": "-"
      }
     },
     "outputs": [
      {
       "metadata": {},
       "output_type": "pyout",
       "prompt_number": 87,
       "text": [
        "array([[0, 1, 2],\n",
        "       [3, 4, 5],\n",
        "       [6, 7, 8]])"
       ]
      }
     ],
     "prompt_number": 87
    },
    {
     "cell_type": "code",
     "collapsed": false,
     "input": [
      "x[idx0, idx1]\n"
     ],
     "language": "python",
     "metadata": {
      "internals": {
       "slide_helper": "subslide_end"
      },
      "slide_helper": "subslide_end",
      "slideshow": {
       "slide_type": "-"
      }
     },
     "outputs": [
      {
       "metadata": {},
       "output_type": "pyout",
       "prompt_number": 88,
       "text": [
        "array([[0, 4],\n",
        "       [3, 7]])"
       ]
      }
     ],
     "prompt_number": 88
    },
    {
     "cell_type": "markdown",
     "metadata": {
      "internals": {
       "slide_type": "subslide"
      },
      "slideshow": {
       "slide_type": "subslide"
      }
     },
     "source": [
      "## Output shape of an indexing op (cont'd)"
     ]
    },
    {
     "cell_type": "code",
     "collapsed": false,
     "input": [
      "x = np.random.random((15, 12, 16, 3))\n",
      "\n",
      "index_one = np.array([[0, 1], [2, 3], [4, 5]])\n",
      "index_two = np.array([[0, 1]])"
     ],
     "language": "python",
     "metadata": {
      "internals": {},
      "slideshow": {
       "slide_type": "-"
      }
     },
     "outputs": [],
     "prompt_number": 91
    },
    {
     "cell_type": "code",
     "collapsed": false,
     "input": [
      "print index_one.shape\n",
      "print index_two.shape"
     ],
     "language": "python",
     "metadata": {
      "internals": {},
      "slideshow": {
       "slide_type": "-"
      }
     },
     "outputs": [
      {
       "output_type": "stream",
       "stream": "stdout",
       "text": [
        "(3, 2)\n",
        "(1, 2)\n"
       ]
      }
     ],
     "prompt_number": 92
    },
    {
     "cell_type": "markdown",
     "metadata": {
      "internals": {},
      "slideshow": {
       "slide_type": "-"
      }
     },
     "source": [
      "Predict the output shape of"
     ]
    },
    {
     "cell_type": "markdown",
     "metadata": {
      "internals": {},
      "slideshow": {
       "slide_type": "-"
      }
     },
     "source": [
      "```python\n",
      "x[5:10, index_one, :, index_two]\n",
      "```"
     ]
    },
    {
     "cell_type": "markdown",
     "metadata": {
      "internals": {
       "slide_helper": "subslide_end"
      },
      "slide_helper": "subslide_end",
      "slideshow": {
       "slide_type": "-"
      }
     },
     "source": [
      "Warning! When mixing slicing and fancy indexing, the\n",
      "*order* of the output dimensions is less easy to predict.\n",
      "Play it safe and **don't mix the two!**"
     ]
    },
    {
     "cell_type": "markdown",
     "metadata": {
      "internals": {
       "slide_type": "subslide"
      },
      "slideshow": {
       "slide_type": "subslide"
      }
     },
     "source": [
      "## Output shape of an indexing op (cont'd)"
     ]
    },
    {
     "cell_type": "code",
     "collapsed": false,
     "input": [
      "x = np.random.random((15, 12, 16, 3))\n",
      "index_one = np.array([[0, 1], [2, 3], [4, 5]])\n",
      "index_two = np.array([[0, 1]])"
     ],
     "language": "python",
     "metadata": {
      "internals": {},
      "slideshow": {
       "slide_type": "-"
      }
     },
     "outputs": [],
     "prompt_number": 101
    },
    {
     "cell_type": "code",
     "collapsed": false,
     "input": [
      "print index_one.shape\n",
      "print index_two.shape"
     ],
     "language": "python",
     "metadata": {
      "internals": {},
      "slideshow": {
       "slide_type": "-"
      }
     },
     "outputs": [
      {
       "output_type": "stream",
       "stream": "stdout",
       "text": [
        "(3, 2)\n",
        "(1, 2)\n"
       ]
      }
     ],
     "prompt_number": 102
    },
    {
     "cell_type": "markdown",
     "metadata": {
      "internals": {},
      "slideshow": {
       "slide_type": "-"
      }
     },
     "source": [
      "Broadcast ``index1`` against ``index2``:"
     ]
    },
    {
     "cell_type": "markdown",
     "metadata": {
      "internals": {},
      "slideshow": {
       "slide_type": "-"
      }
     },
     "source": [
      "```\n",
      "(3, 2)  # shape of index1\n",
      "(1, 2)  # shape of index2\n",
      "------\n",
      "(3, 2)\n",
      "```"
     ]
    },
    {
     "cell_type": "markdown",
     "metadata": {
      "internals": {
       "slide_helper": "subslide_end"
      },
      "slide_helper": "subslide_end",
      "slideshow": {
       "slide_type": "-"
      }
     },
     "source": [
      "The shape of ``x[5:10, index_one, :, index_two]`` is\n",
      "\n",
      "``(3, 2, 5, 16)``"
     ]
    },
    {
     "cell_type": "markdown",
     "metadata": {
      "internals": {
       "slide_type": "subslide"
      },
      "slideshow": {
       "slide_type": "subslide"
      }
     },
     "source": [
      "## Jack's dilemma\n",
      "\n",
      "Indexing and broadcasting are intertwined, as we\u2019ll see in the following\n",
      "example. One of my favourites from the NumPy mailing list:"
     ]
    },
    {
     "cell_type": "markdown",
     "metadata": {
      "internals": {
       "slide_helper": "subslide_end"
      },
      "slide_helper": "subslide_end",
      "slideshow": {
       "slide_type": "-"
      }
     },
     "source": [
      "```email\n",
      "Date: Wed, 16 Jul 2008 16:45:37 -0500\n",
      "From: Jack Cook\n",
      "To: <numpy-discussion@scipy.org>\n",
      "Subject: Numpy Advanced Indexing Question\n",
      "```\n",
      "\n",
      "Greetings,\n",
      "\n",
      "I have an I,J,K 3D volume of amplitude values at regularly sampled\n",
      "time intervals. I have an I,J 2D slice which contains a time (K)\n",
      "value at each I, J location. What I would like to do is extract a\n",
      "subvolume at a constant +/- K window around the slice. Is there an\n",
      "easy way to do this using advanced indexing or some other method?\n",
      "Thanks in advanced for your help.\n",
      "\n",
      "-- Jack"
     ]
    },
    {
     "cell_type": "markdown",
     "metadata": {
      "internals": {
       "slide_helper": "subslide_end",
       "slide_type": "subslide"
      },
      "slide_helper": "subslide_end",
      "slideshow": {
       "slide_type": "-"
      }
     },
     "source": [
      "<img src=\"images/jack.png\" width=\"90%\" alt=\"Jack's cube\"/>"
     ]
    },
    {
     "cell_type": "markdown",
     "metadata": {
      "internals": {
       "slide_type": "subslide"
      },
      "slideshow": {
       "slide_type": "subslide"
      }
     },
     "source": [
      "### Test setup"
     ]
    },
    {
     "cell_type": "code",
     "collapsed": false,
     "input": [
      "ni, nj, nk = (10, 15, 20)  # dimensions"
     ],
     "language": "python",
     "metadata": {
      "internals": {},
      "slideshow": {
       "slide_type": "-"
      }
     },
     "outputs": [],
     "prompt_number": 108
    },
    {
     "cell_type": "markdown",
     "metadata": {
      "internals": {},
      "slideshow": {
       "slide_type": "-"
      }
     },
     "source": [
      "Make a fake data block such that ``block[i, j, k] == k`` for all i, j, k."
     ]
    },
    {
     "cell_type": "code",
     "collapsed": false,
     "input": [
      "block = np.empty((ni, nj, nk) , dtype=int)\n",
      "block[:] = np.arange(nk)[np.newaxis, np.newaxis, :]"
     ],
     "language": "python",
     "metadata": {
      "internals": {},
      "slideshow": {
       "slide_type": "-"
      }
     },
     "outputs": [],
     "prompt_number": 109
    },
    {
     "cell_type": "markdown",
     "metadata": {
      "internals": {},
      "slideshow": {
       "slide_type": "-"
      }
     },
     "source": [
      "Pick out a random fake horizon in ``k``:"
     ]
    },
    {
     "cell_type": "code",
     "collapsed": false,
     "input": [
      "k = np.random.randint(5, 15, size=(ni, nj))\n",
      "k"
     ],
     "language": "python",
     "metadata": {
      "internals": {},
      "slideshow": {
       "slide_type": "-"
      }
     },
     "outputs": [
      {
       "metadata": {},
       "output_type": "pyout",
       "prompt_number": 110,
       "text": [
        "array([[ 6,  8,  5, 11, 12, 10, 12, 13,  6,  8, 11, 14, 10, 10,  6],\n",
        "       [ 6,  8,  9, 14,  5,  9, 11, 10, 13,  9, 11,  9,  9,  5, 11],\n",
        "       [10, 14, 10, 11, 14, 13,  6,  9, 10, 13, 14,  6,  7,  5, 10],\n",
        "       [ 7,  7,  5, 12,  6, 11, 14,  8,  7, 12,  5,  5,  7, 10, 14],\n",
        "       [13, 12, 11, 11, 12,  9,  9,  6, 14,  8, 13,  6, 12,  9, 13],\n",
        "       [10,  7,  6, 11,  5,  8, 13,  9,  5, 14, 10,  6,  8,  6,  9],\n",
        "       [14, 13, 10,  5, 13,  5,  8,  7,  6,  5, 10, 12, 12,  7, 14],\n",
        "       [ 6,  7, 12,  8, 14, 11,  9, 14, 12,  8, 13, 11,  8,  5,  6],\n",
        "       [ 8,  9,  5, 11,  9,  9,  9,  8, 12,  8, 11,  5,  5,  8, 11],\n",
        "       [ 8, 13, 14,  6, 12, 10,  5, 13, 10,  9, 11,  9,  8,  9,  5]])"
       ]
      }
     ],
     "prompt_number": 110
    },
    {
     "cell_type": "code",
     "collapsed": false,
     "input": [
      "half_width = 3"
     ],
     "language": "python",
     "metadata": {
      "internals": {
       "slide_helper": "subslide_end"
      },
      "slide_helper": "subslide_end",
      "slideshow": {
       "slide_type": "-"
      }
     },
     "outputs": [],
     "prompt_number": 111
    },
    {
     "cell_type": "markdown",
     "metadata": {
      "internals": {
       "slide_type": "subslide"
      },
      "slideshow": {
       "slide_type": "subslide"
      }
     },
     "source": [
      "### Solution\n",
      "\n",
      "These two indices assure that we take a slice at each (i, j) position"
     ]
    },
    {
     "cell_type": "code",
     "collapsed": false,
     "input": [
      "idx_i = np.arange(ni)[:, np.newaxis, np.newaxis]\n",
      "idx_j = np.arange(nj)[np.newaxis, :, np.newaxis]"
     ],
     "language": "python",
     "metadata": {
      "internals": {},
      "slideshow": {
       "slide_type": "-"
      }
     },
     "outputs": [],
     "prompt_number": 112
    },
    {
     "cell_type": "markdown",
     "metadata": {
      "internals": {},
      "slideshow": {
       "slide_type": "-"
      }
     },
     "source": [
      "This is the substantitive part that picks out the window:"
     ]
    },
    {
     "cell_type": "code",
     "collapsed": false,
     "input": [
      "idx_k = k[:, :, np.newaxis] + np.arange(-half_width, half_width + 1)\n",
      "slices = block[idx_i, idx_j, idx_k]  # Slice"
     ],
     "language": "python",
     "metadata": {
      "internals": {},
      "slideshow": {
       "slide_type": "-"
      }
     },
     "outputs": [],
     "prompt_number": 118
    },
    {
     "cell_type": "markdown",
     "metadata": {
      "internals": {},
      "slideshow": {
       "slide_type": "-"
      }
     },
     "source": [
      "Apply the broadcasting rules:"
     ]
    },
    {
     "cell_type": "code",
     "collapsed": false,
     "input": [
      "(ni,  1, 1                 )  # idx_i\n",
      "(1,  nj, 1                 )  # idx_j\n",
      "(ni, nj, 2 * half_width + 1)  # idx_k\n",
      "-\n",
      "(ni, nj, 7)  <-- this is what we wanted!"
     ],
     "language": "python",
     "metadata": {
      "internals": {
       "slide_helper": "subslide_end"
      },
      "slide_helper": "subslide_end",
      "slideshow": {
       "slide_type": "-"
      }
     },
     "outputs": []
    },
    {
     "cell_type": "markdown",
     "metadata": {
      "internals": {
       "slide_type": "subslide"
      },
      "slideshow": {
       "slide_type": "subslide"
      }
     },
     "source": [
      "### Solution verification"
     ]
    },
    {
     "cell_type": "code",
     "collapsed": false,
     "input": [
      "slices = block[idx_i, idx_j, idx_k]\n",
      "slices.shape\n",
      "(10, 15, 7)"
     ],
     "language": "python",
     "metadata": {
      "internals": {},
      "slideshow": {
       "slide_type": "-"
      }
     },
     "outputs": [
      {
       "metadata": {},
       "output_type": "pyout",
       "prompt_number": 119,
       "text": [
        "(10, 15, 7)"
       ]
      }
     ],
     "prompt_number": 119
    },
    {
     "cell_type": "markdown",
     "metadata": {
      "internals": {},
      "slideshow": {
       "slide_type": "-"
      }
     },
     "source": [
      "Now verify that our window is centered on ``k`` everywhere:"
     ]
    },
    {
     "cell_type": "code",
     "collapsed": false,
     "input": [
      "slices[:, :, 3]"
     ],
     "language": "python",
     "metadata": {
      "internals": {},
      "slideshow": {
       "slide_type": "-"
      }
     },
     "outputs": [
      {
       "metadata": {},
       "output_type": "pyout",
       "prompt_number": 120,
       "text": [
        "array([[ 6,  8,  5, 11, 12, 10, 12, 13,  6,  8, 11, 14, 10, 10,  6],\n",
        "       [ 6,  8,  9, 14,  5,  9, 11, 10, 13,  9, 11,  9,  9,  5, 11],\n",
        "       [10, 14, 10, 11, 14, 13,  6,  9, 10, 13, 14,  6,  7,  5, 10],\n",
        "       [ 7,  7,  5, 12,  6, 11, 14,  8,  7, 12,  5,  5,  7, 10, 14],\n",
        "       [13, 12, 11, 11, 12,  9,  9,  6, 14,  8, 13,  6, 12,  9, 13],\n",
        "       [10,  7,  6, 11,  5,  8, 13,  9,  5, 14, 10,  6,  8,  6,  9],\n",
        "       [14, 13, 10,  5, 13,  5,  8,  7,  6,  5, 10, 12, 12,  7, 14],\n",
        "       [ 6,  7, 12,  8, 14, 11,  9, 14, 12,  8, 13, 11,  8,  5,  6],\n",
        "       [ 8,  9,  5, 11,  9,  9,  9,  8, 12,  8, 11,  5,  5,  8, 11],\n",
        "       [ 8, 13, 14,  6, 12, 10,  5, 13, 10,  9, 11,  9,  8,  9,  5]])"
       ]
      }
     ],
     "prompt_number": 120
    },
    {
     "cell_type": "code",
     "collapsed": false,
     "input": [
      "np.all(slices[:, :, 3] == k)"
     ],
     "language": "python",
     "metadata": {
      "internals": {},
      "slideshow": {
       "slide_type": "-"
      }
     },
     "outputs": [
      {
       "metadata": {},
       "output_type": "pyout",
       "prompt_number": 121,
       "text": [
        "True"
       ]
      }
     ],
     "prompt_number": 121
    },
    {
     "cell_type": "markdown",
     "metadata": {
      "internals": {},
      "slideshow": {
       "slide_type": "slide"
      }
     },
     "source": [
      "## The \\_\\_array\\_interface\\_\\_\n",
      "\n",
      "Any object that exposes a suitable dictionary named\n",
      "``__array_interface__`` may be converted to a NumPy array. This is\n",
      "handy for exchanging data with external libraries. The array interface\n",
      "has the following important keys (see\n",
      "http://docs.scipy.org/doc/numpy/reference/arrays.interface):\n",
      "\n",
      " - **shape**\n",
      " - **typestr**\n",
      " - **data**: (20495857, True); 2-tuple\u2014pointer to data and boolean to\n",
      "indicate whether memory is read-only\n",
      " - **strides**\n",
      " - **version**: 3"
     ]
    },
    {
     "cell_type": "markdown",
     "metadata": {
      "internals": {},
      "slideshow": {
       "slide_type": "subslide"
      }
     },
     "source": [
      "## Example: Repeating sequence"
     ]
    },
    {
     "cell_type": "code",
     "collapsed": false,
     "input": [
      "data = np.array([1, 2, 3, 4])\n",
      "print data.shape, data.strides"
     ],
     "language": "python",
     "metadata": {
      "internals": {},
      "slideshow": {
       "slide_type": "-"
      }
     },
     "outputs": [
      {
       "output_type": "stream",
       "stream": "stdout",
       "text": [
        "(4,) (8,)\n"
       ]
      }
     ],
     "prompt_number": 21
    },
    {
     "cell_type": "code",
     "collapsed": false,
     "input": [
      "N = 400000\n",
      "repeat = np.lib.stride_tricks.as_strided(data, shape=(N, 4), strides=(0, 8))"
     ],
     "language": "python",
     "metadata": {
      "internals": {},
      "slideshow": {
       "slide_type": "-"
      }
     },
     "outputs": [],
     "prompt_number": 30
    },
    {
     "cell_type": "code",
     "collapsed": false,
     "input": [
      "repeat"
     ],
     "language": "python",
     "metadata": {
      "internals": {
       "slide_helper": "subslide_end"
      },
      "slide_helper": "slide_end",
      "slideshow": {
       "slide_type": "-"
      }
     },
     "outputs": [
      {
       "metadata": {},
       "output_type": "pyout",
       "prompt_number": 31,
       "text": [
        "array([[1, 2, 3, 4],\n",
        "       [1, 2, 3, 4],\n",
        "       [1, 2, 3, 4],\n",
        "       ..., \n",
        "       [1, 2, 3, 4],\n",
        "       [1, 2, 3, 4],\n",
        "       [1, 2, 3, 4]])"
       ]
      }
     ],
     "prompt_number": 31
    },
    {
     "cell_type": "markdown",
     "metadata": {
      "internals": {
       "slide_type": "subslide"
      },
      "slideshow": {
       "slide_type": "slide"
      }
     },
     "source": [
      "## Questions, discussion and exercizes"
     ]
    },
    {
     "cell_type": "markdown",
     "metadata": {
      "internals": {},
      "slideshow": {
       "slide_type": "-"
      }
     },
     "source": [
      "---\n",
      "<div style=\"height: 200px;\"/>"
     ]
    },
    {
     "cell_type": "code",
     "collapsed": false,
     "input": [
      "%reload_ext load_style\n",
      "%load_style css/notebook.css"
     ],
     "language": "python",
     "metadata": {
      "internals": {
       "slide_helper": "subslide_end"
      },
      "slide_helper": "slide_end",
      "slideshow": {
       "slide_type": "-"
      }
     },
     "outputs": [
      {
       "html": [
        "<style>\n",
        ".rendered_html {\n",
        "    font-family: Georgia, serif;\n",
        "    font-size: 130%;\n",
        "    line-height: 1.5;\n",
        "}\n",
        "\n",
        ".input {\n",
        "    width: 930px;\n",
        "}\n",
        "\n",
        ".inner_cell {\n",
        "    width: 800px;\n",
        "}\n",
        "\n",
        ".code_cell {\n",
        "    width: 800px;\n",
        "}\n",
        "\n",
        ".CodeMirror-sizer {\n",
        "}\n",
        "\n",
        "hr {\n",
        "    border: 1px solid #DDD;\n",
        "}\n",
        "\n",
        ".rendered_html h1 {\n",
        "    margin: 0.25em 0em 0.5em;\n",
        "    font-family: sans-serif;\n",
        "    color: #015C9C;\n",
        "    text-align: center;\n",
        "    line-height: 1.2;\n",
        "    page-break-before: always;\n",
        "}\n",
        "\n",
        ".rendered_html h2 {\n",
        "    margin: 1.1em 0em 0.5em;\n",
        "    font-family: sans-serif;\n",
        "    color: #26465D;\n",
        "    line-height: 1.2;\n",
        "}\n",
        "\n",
        ".rendered_html h3 {\n",
        "    font-family: sans-serif;\n",
        "    margin: 1.1em 0em 0.5em;\n",
        "    color: #002845;\n",
        "    line-height: 1.2;\n",
        "}\n",
        "\n",
        ".rendered_html li {\n",
        "    line-height: 1.5;\n",
        "}\n",
        "\n",
        ".CodeMirror-lines {\n",
        "    font-size: 110%;\n",
        "    line-height: 1.4em;\n",
        "    font-family: DejaVu Sans Mono, Consolas, Ubuntu, monospace;\n",
        "}\n",
        "\n",
        "h1.bigtitle {\n",
        "    margin: 4cm 1cm 4cm 1cm;\n",
        "    font-size: 300%;\n",
        "}\n",
        "\n",
        "h3.point {\n",
        "    font-size: 200%;\n",
        "    text-align: center;\n",
        "    margin: 2em 0em 2em 0em;\n",
        "    #26465D\n",
        "}\n",
        "\n",
        ".logo {\n",
        "    margin: 20px 0 20px 0;\n",
        "}\n",
        "\n",
        "a.anchor-link {\n",
        "    display: none;\n",
        "}\n",
        "\n",
        "h1.title {\n",
        "    font-size: 250%;\n",
        "}\n",
        "\n",
        ".exercize {\n",
        "    color: #738;\n",
        "}\n",
        "\n",
        "h2 .exercize {\n",
        "    font-style: italic;\n",
        "}\n",
        "\n",
        "</style>"
       ],
       "metadata": {},
       "output_type": "display_data",
       "text": [
        "<IPython.core.display.HTML object>"
       ]
      }
     ],
     "prompt_number": 1
    }
   ],
   "metadata": {}
  }
 ]
}