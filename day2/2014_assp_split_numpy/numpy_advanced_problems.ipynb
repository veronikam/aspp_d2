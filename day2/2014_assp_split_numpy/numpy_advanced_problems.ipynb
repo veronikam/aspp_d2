{
 "metadata": {
  "kernelspec": {
   "codemirror_mode": {
    "name": "ipython",
    "version": 2
   },
   "display_name": "IPython (Python 2)",
   "language": "python",
   "name": "python2"
  },
  "name": "",
  "signature": "sha256:50745cce2784c3b83ca1943cfe79837c82c5cdc8b4b87f9ec4338b382c6248f2"
 },
 "nbformat": 3,
 "nbformat_minor": 0,
 "worksheets": [
  {
   "cells": [
    {
     "cell_type": "markdown",
     "metadata": {},
     "source": [
      "# Problem-set: Advanced NumPy\n",
      "\n",
      "- [The NumPy array](#The-NumPy-array)\n",
      "- [Structured Arrays](#Structured-Arrays)\n",
      "- [Broadcasting](#Broadcasting)\n",
      "- [Indexing](#Indexing)\n",
      "- [Array Interface](#Array-Interface)\n",
      "- [Advanced Exercises](#Advanced-Exercises)\n",
      "- [Very Advanced Exercises](#Very-Advanced-Exercises)\n",
      "\n",
      "Please do explore beyond the problems given, and feel free to ask questions at any time.\n",
      "\n",
      "> **Note**:\n",
      "> Solutions to some problems are provided, but try to avoid peeking at them until you've made an attempt!\n",
      "> Before we start, load NumPy:\n",
      "\n",
      "```python\n",
      "import numpy as np\n",
      "The NumPy array\n",
      "```\n",
      "\n",
      "These exercises explore some of the more advanced features of NumPy.\n",
      "If you prefer to learn the basics from scratch, have a look at\n",
      "[this introduction](http://mentat.za.net/numpy/intro/intro.html).\n",
      "\n",
      "If you run out of exercizes, there are [50 more here!](http://www.loria.fr/~rougier/teaching/numpy.100/)"
     ]
    },
    {
     "cell_type": "heading",
     "level": 2,
     "metadata": {},
     "source": [
      "The NumPy array"
     ]
    },
    {
     "cell_type": "markdown",
     "metadata": {},
     "source": [
      "- Let's explore the basics of a NumPy array. Create a 3x4 array of\n",
      "random values (using np.random.random), and call it ``x``.\n",
      "Create another array as follows: ``y = x[2]``.\n",
      "What happens when you modify ``y``--does ``x`` also change?"
     ]
    },
    {
     "cell_type": "markdown",
     "metadata": {},
     "source": [
      "- In the array above, have a look at its different properties: ``x.shape``, ``x.ndim``,\n",
      "``x.dtype``, ``x.strides``. What does each property tell you about the array?"
     ]
    },
    {
     "cell_type": "markdown",
     "metadata": {},
     "source": [
      "- Compare the strides property of x.T to the above. What is x.T and can you\n",
      "explain the new strides?"
     ]
    },
    {
     "cell_type": "code",
     "collapsed": false,
     "input": [
      "import numpy as np\n",
      "x=np.random.random((3,4))\n",
      "\n"
     ],
     "language": "python",
     "metadata": {},
     "outputs": [],
     "prompt_number": 3
    },
    {
     "cell_type": "code",
     "collapsed": false,
     "input": [
      "x.strides"
     ],
     "language": "python",
     "metadata": {},
     "outputs": [
      {
       "metadata": {},
       "output_type": "pyout",
       "prompt_number": 8,
       "text": [
        "(32, 8)"
       ]
      }
     ],
     "prompt_number": 8
    },
    {
     "cell_type": "code",
     "collapsed": false,
     "input": [
      "x.T.strides"
     ],
     "language": "python",
     "metadata": {},
     "outputs": [
      {
       "metadata": {},
       "output_type": "pyout",
       "prompt_number": 10,
       "text": [
        "(8, 32)"
       ]
      }
     ],
     "prompt_number": 10
    },
    {
     "cell_type": "markdown",
     "metadata": {},
     "source": [
      "- Compute the sum of the columns of x. You may find the function to do that by\n",
      "using np.<TAB> in IPython, print dir(np) in standard Python or\n",
      "np.lookfor('sum'). Remember that you can always look at the docstring of any\n",
      "function in Python (use np.func_name?<ENTER> in IPython or help(np.func_name)\n",
      "in standard Python)."
     ]
    },
    {
     "cell_type": "code",
     "collapsed": false,
     "input": [
      "np.lookfor('sum')\n"
     ],
     "language": "python",
     "metadata": {},
     "outputs": [
      {
       "output_type": "stream",
       "stream": "stdout",
       "text": [
        "Search results for 'sum'\n",
        "------------------------\n",
        "numpy.sum\n",
        "    Sum of array elements over a given axis.\n",
        "numpy.cumsum\n",
        "    Return the cumulative sum of the elements along a given axis.\n",
        "numpy.einsum\n",
        "    Evaluates the Einstein summation convention on the operands.\n",
        "numpy.nansum\n",
        "    Return the sum of array elements over a given axis treating Not a\n",
        "numpy.ma.sum\n",
        "    Return the sum of the array elements over the given axis.\n",
        "numpy.trace\n",
        "    Return the sum along diagonals of the array.\n",
        "numpy.polyadd\n",
        "    Find the sum of two polynomials.\n",
        "numpy.ma.cumsum\n",
        "    Return the cumulative sum of the elements along the given axis.\n",
        "numpy.matrix.sum\n",
        "    Returns the sum of the matrix elements, along the given axis.\n",
        "numpy.logaddexp\n",
        "    Logarithm of the sum of exponentiations of the inputs.\n",
        "numpy.logaddexp2\n",
        "    Logarithm of the sum of exponentiations of the inputs in base-2.\n",
        "numpy.chararray.sum\n",
        "    Return the sum of the array elements over the given axis.\n",
        "numpy.mask_indices\n",
        "    Return the indices to access (n, n) arrays, given a masking function.\n",
        "numpy.chararray.cumsum\n",
        "    Return the cumulative sum of the elements along the given axis.\n",
        "numpy.ma.mvoid.sum\n",
        "    Return the sum of the array elements over the given axis.\n",
        "numpy.chararray.trace\n",
        "    Return the sum along diagonals of the array.\n",
        "numpy.ma.mvoid.cumsum\n",
        "    Return the cumulative sum of the elements along the given axis.\n",
        "numpy.ma.MaskedArray.sum\n",
        "    Return the sum of the array elements over the given axis.\n",
        "numpy.linalg.tensorsolve\n",
        "    Solve the tensor equation ``a x = b`` for x.\n",
        "numpy.ma.mvoid.trace\n",
        "    Return the sum along diagonals of the array.\n",
        "numpy.PackageLoader.get_pkgdocs\n",
        "    Return documentation summary of subpackages.\n",
        "numpy.oldnumeric.ma.dot\n",
        "    is over the last dimension of a and the second-to-last dimension of b.\n",
        "numpy.oldnumeric.ma.inner\n",
        "    shape a.shape[:-1] + b.shape[:-1] with elements computed by summing the\n",
        "numpy.oldnumeric.ma.trace\n",
        "    (defined by the last two dimenions) of the array.\n",
        "numpy.ma.MaskedArray.trace\n",
        "    Return the sum along diagonals of the array.\n",
        "numpy.polynomial.Hermite.__add__\n",
        "    Returns sum\n",
        "numpy.polynomial.hermite.hermadd\n",
        "    Add one Hermite series to another.\n",
        "numpy.polynomial.laguerre.lagadd\n",
        "    Add one Laguerre series to another.\n",
        "numpy.polynomial.legendre.legadd\n",
        "    Add one Legendre series to another.\n",
        "numpy.polynomial.HermiteE.__add__\n",
        "    Returns sum\n",
        "numpy.polynomial.Laguerre.__add__\n",
        "    Returns sum\n",
        "numpy.polynomial.Legendre.__add__\n",
        "    Returns sum\n",
        "numpy.polynomial.chebyshev.chebadd\n",
        "    Add one Chebyshev series to another.\n",
        "numpy.polynomial.Polynomial.__add__\n",
        "    Returns sum\n",
        "numpy.polynomial.hermite_e.hermeadd\n",
        "    Add one Hermite series to another.\n",
        "numpy.polynomial.polynomial.polyadd\n",
        "    Add one polynomial to another.\n",
        "numpy.fv\n",
        "    Compute the future value.\n",
        "numpy.pv\n",
        "    Compute the present value.\n",
        "numpy.core.setup_common.get_api_versions\n",
        "    Return current C API checksum and the recorded checksum for the given\n",
        "numpy.add\n",
        "    Add arguments element-wise.\n",
        "numpy.dot\n",
        "    Dot product of two arrays.\n",
        "numpy.irr\n",
        "    Return the Internal Rate of Return (IRR).\n",
        "numpy.npv\n",
        "    Returns the NPV (Net Present Value) of a cash flow series.\n",
        "numpy.std\n",
        "    Compute the standard deviation along the specified axis.\n",
        "numpy.var\n",
        "    Compute the variance along the specified axis.\n",
        "numpy.diag\n",
        "    Extract a diagonal or construct a diagonal array.\n",
        "numpy.diff\n",
        "    Calculate the n-th order discrete difference along given axis.\n",
        "numpy.in1d\n",
        "    Test whether each element of a 1-D array is also present in a second array.\n",
        "numpy.ipmt\n",
        "    Compute the interest portion of a payment.\n",
        "numpy.kron\n",
        "    Kronecker product of two arrays.\n",
        "numpy.mean\n",
        "    Compute the arithmetic mean along the specified axis.\n",
        "numpy.cross\n",
        "    Return the cross product of two (arrays of) vectors.\n",
        "numpy.inner\n",
        "    Inner product of two arrays.\n",
        "numpy.outer\n",
        "    Compute the outer product of two vectors.\n",
        "numpy.trapz\n",
        "    Integrate along the given axis using the composite trapezoidal rule.\n",
        "numpy.choose\n",
        "    Construct an array from an index array and a set of arrays to choose from.\n",
        "numpy.nanstd\n",
        "    Compute the standard deviation along the specified axis, while\n",
        "numpy.nanvar\n",
        "    Compute the variance along the specified axis, while ignoring NaNs.\n",
        "numpy.average\n",
        "    Compute the weighted average along the specified axis.\n",
        "numpy.nanmean\n",
        "    Compute the arithmetic mean along the specified axis, ignoring NaNs.\n",
        "numpy.polyfit\n",
        "    Least squares polynomial fit.\n",
        "numpy.polyint\n",
        "    Return an antiderivative (indefinite integral) of a polynomial.\n",
        "numpy.bincount\n",
        "    Count number of occurrences of each value in array of non-negative ints.\n",
        "numpy.blackman\n",
        "    Return the Blackman window.\n",
        "numpy.convolve\n",
        "    Returns the discrete, linear convolution of two one-dimensional sequences.\n",
        "numpy.diagflat\n",
        "    Create a two-dimensional array with the flattened input as a diagonal.\n",
        "numpy.diagonal\n",
        "    Return specified diagonals.\n",
        "numpy.setxor1d\n",
        "    Find the set exclusive-or of two arrays.\n",
        "numpy.correlate\n",
        "    Cross-correlation of two 1-dimensional sequences.\n",
        "numpy.histogram\n",
        "    Compute the histogram of a set of data.\n",
        "numpy.ma.mrecords.MaskedRecords.trace\n",
        "    Return the sum along diagonals of the array.\n",
        "numpy.piecewise\n",
        "    Evaluate a piecewise-defined function.\n",
        "numpy.setdiff1d\n",
        "    Find the set difference of two arrays.\n",
        "numpy.tensordot\n",
        "    Compute tensor dot product along specified axes for arrays >= 1-D.\n",
        "numpy.ma.add\n",
        "    Add arguments element-wise.\n",
        "numpy.ma.std\n",
        "    Compute the standard deviation along the specified axis.\n",
        "numpy.ma.var\n",
        "    Compute the variance along the specified axis.\n",
        "numpy.histogram2d\n",
        "    Compute the bi-dimensional histogram of two data samples.\n",
        "numpy.histogramdd\n",
        "    Compute the multidimensional histogram of some data.\n",
        "numpy.intersect1d\n",
        "    Find the intersection of two arrays.\n",
        "numpy.fft.hfft\n",
        "    Compute the FFT of a signal whose spectrum has Hermitian symmetry.\n",
        "numpy.ma.inner\n",
        "    Inner product of two arrays.\n",
        "numpy.ma.outer\n",
        "    Compute the outer product of two vectors.\n",
        "numpy.ma.trace\n",
        "    a.trace(offset=0, axis1=0, axis2=1, dtype=None, out=None)\n",
        "numpy.fft.ihfft\n",
        "    Compute the inverse FFT of a signal whose spectrum has Hermitian symmetry.\n",
        "numpy.ma.average\n",
        "    Return the weighted average of array over the given axis.\n",
        "numpy.apply_over_axes\n",
        "    Apply a function repeatedly over multiple axes.\n",
        "numpy.ma.polyfit\n",
        "    Least squares polynomial fit.\n",
        "numpy.linalg.cond\n",
        "    Compute the condition number of a matrix.\n",
        "numpy.linalg.norm\n",
        "    Matrix or vector norm.\n",
        "numpy.ma.diagflat\n",
        "    Create a two-dimensional array with the flattened input as a diagonal.\n",
        "numpy.set_printoptions\n",
        "    Set printing options.\n",
        "numpy.linalg.lstsq\n",
        "    Return the least-squares solution to a linear matrix equation.\n",
        "numpy.oldnumeric.linear_algebra.linear_least_squares\n",
        "    returns x,resids,rank,s\n",
        "numpy.ufunc.reduce\n",
        "    Reduces `a`'s dimension by one, by applying ufunc along one axis.\n",
        "numpy.ufunc.reduceat\n",
        "    Performs a (local) reduce with specified slices over a single axis.\n",
        "numpy.bytes_.expandtabs\n",
        "    S.expandtabs([tabsize]) -> string\n",
        "numpy.linalg.tensorinv\n",
        "    Compute the 'inverse' of an N-dimensional array.\n",
        "numpy.ufunc.accumulate\n",
        "    Accumulate the result of applying the operator to all elements.\n",
        "numpy.ma.mvoid.std\n",
        "    Compute the standard deviation along the specified axis.\n",
        "numpy.ma.mvoid.var\n",
        "    Compute the variance along the specified axis.\n",
        "numpy.ma.apply_over_axes\n",
        "    Apply a function repeatedly over multiple axes.\n",
        "numpy.unicode0.expandtabs\n",
        "    S.expandtabs([tabsize]) -> unicode\n",
        "numpy.distutils.command.sdist.sdist.write_manifest\n",
        "    Write the file list in 'self.filelist' (presumably as filled in\n",
        "numpy.numarray.ma.add\n",
        "    Add arguments element-wise.\n",
        "numpy.ma.MaskedArray.std\n",
        "    Compute the standard deviation along the specified axis.\n",
        "numpy.ma.MaskedArray.var\n",
        "    Compute the variance along the specified axis.\n",
        "numpy.oldnumeric.ma.new_average\n",
        "    Computes average along indicated axis.\n",
        "numpy.polynomial.hermite.hermfit\n",
        "    Least squares fit of Hermite series to data.\n",
        "numpy.polynomial.laguerre.lagfit\n",
        "    Least squares fit of Laguerre series to data.\n",
        "numpy.polynomial.legendre.legfit\n",
        "    Least squares fit of Legendre series to data.\n",
        "numpy.distutils.command.build_src.build_src.check_extensions_list\n",
        "    Ensure that the list of extensions (presumably provided as a\n",
        "numpy.polynomial.chebyshev.chebfit\n",
        "    Least squares fit of Chebyshev series to data.\n",
        "numpy.polynomial.hermite.hermroots\n",
        "    Compute the roots of a Hermite series.\n",
        "numpy.polynomial.hermite.hermval2d\n",
        "    Evaluate a 2-D Hermite series at points (x, y).\n",
        "numpy.polynomial.hermite.hermval3d\n",
        "    Evaluate a 3-D Hermite series at points (x, y, z).\n",
        "numpy.polynomial.laguerre.lagroots\n",
        "    Compute the roots of a Laguerre series.\n",
        "numpy.polynomial.laguerre.lagval2d\n",
        "    Evaluate a 2-D Laguerre series at points (x, y).\n",
        "numpy.polynomial.laguerre.lagval3d\n",
        "    Evaluate a 3-D Laguerre series at points (x, y, z).\n",
        "numpy.polynomial.legendre.legroots\n",
        "    Compute the roots of a Legendre series.\n",
        "numpy.polynomial.legendre.legval2d\n",
        "    Evaluate a 2-D Legendre series at points (x, y).\n",
        "numpy.polynomial.legendre.legval3d\n",
        "    Evaluate a 3-D Legendre series at points (x, y, z).\n",
        "numpy.polynomial.hermite.hermgrid2d\n",
        "    Evaluate a 2-D Hermite series on the Cartesian product of x and y.\n",
        "numpy.polynomial.hermite.hermgrid3d\n",
        "    Evaluate a 3-D Hermite series on the Cartesian product of x, y, and z.\n",
        "numpy.polynomial.hermite_e.hermefit\n",
        "    Least squares fit of Hermite series to data.\n",
        "numpy.polynomial.laguerre.laggrid2d\n",
        "    Evaluate a 2-D Laguerre series on the Cartesian product of x and y.\n",
        "numpy.polynomial.laguerre.laggrid3d\n",
        "    Evaluate a 3-D Laguerre series on the Cartesian product of x, y, and z.\n",
        "numpy.polynomial.legendre.leggrid2d\n",
        "    Evaluate a 2-D Legendre series on the Cartesian product of x and y.\n",
        "numpy.polynomial.legendre.leggrid3d\n",
        "    Evaluate a 3-D Legendre series on the Cartesian product of x, y, and z.\n",
        "numpy.polynomial.polynomial.polyfit\n",
        "    Least-squares fit of a polynomial to data.\n",
        "numpy.polynomial.chebyshev.chebroots\n",
        "    Compute the roots of a Chebyshev series.\n",
        "numpy.polynomial.chebyshev.chebval2d\n",
        "    Evaluate a 2-D Chebyshev series at points (x, y).\n",
        "numpy.polynomial.chebyshev.chebval3d\n",
        "    Evaluate a 3-D Chebyshev series at points (x, y, z).\n",
        "numpy.polynomial.chebyshev.chebgrid2d\n",
        "    Evaluate a 2-D Chebyshev series on the Cartesian product of x and y.\n",
        "numpy.polynomial.chebyshev.chebgrid3d\n",
        "    Evaluate a 3-D Chebyshev series on the Cartesian product of x, y, and z.\n",
        "numpy.polynomial.hermite_e.hermeroots\n",
        "    Compute the roots of a HermiteE series.\n",
        "numpy.polynomial.hermite_e.hermeval2d\n",
        "    Evaluate a 2-D HermiteE series at points (x, y).\n",
        "numpy.polynomial.hermite_e.hermeval3d\n",
        "    Evaluate a 3-D Hermite_e series at points (x, y, z).\n",
        "numpy.polynomial.polynomial.polyroots\n",
        "    Compute the roots of a polynomial.\n",
        "numpy.polynomial.polynomial.polyval2d\n",
        "    Evaluate a 2-D polynomial at points (x, y).\n",
        "numpy.polynomial.polynomial.polyval3d\n",
        "    Evaluate a 3-D polynomial at points (x, y, z).\n",
        "numpy.polynomial.hermite_e.hermegrid2d\n",
        "    Evaluate a 2-D HermiteE series on the Cartesian product of x and y.\n",
        "numpy.polynomial.hermite_e.hermegrid3d\n",
        "    Evaluate a 3-D HermiteE series on the Cartesian product of x, y, and z.\n",
        "numpy.polynomial.polynomial.polygrid2d\n",
        "    Evaluate a 2-D polynomial on the Cartesian product of x and y.\n",
        "numpy.polynomial.polynomial.polygrid3d\n",
        "    Evaluate a 3-D polynomial on the Cartesian product of x, y and z.\n",
        "numpy.oldnumeric.random_array.multinomial\n",
        "    array of multinomial distributed integer vectors.\n",
        "numpy.ma.mrecords.MaskedRecords.var\n",
        "    Compute the variance along the specified axis.\n",
        "numpy.distutils.misc_util.Configuration.set_options\n",
        "    Configure Configuration instance.\n",
        "numpy.distutils.misc_util.Configuration.add_subpackage\n",
        "    Add a sub-package to the current Configuration instance.\n",
        "numpy.distutils.misc_util.Configuration.get_subpackage\n",
        "    Return list of subpackage configurations.\n",
        "numpy.distutils.misc_util.Configuration.add_npy_pkg_config\n",
        "    Generate and install a npy-pkg config file from a template."
       ]
      },
      {
       "ename": "ValueError",
       "evalue": "'axis' entry is out of bounds",
       "output_type": "pyerr",
       "traceback": [
        "\u001b[0;31m---------------------------------------------------------------------------\u001b[0m\n\u001b[0;31mValueError\u001b[0m                                Traceback (most recent call last)",
        "\u001b[0;32m<ipython-input-17-1fb38d31427c>\u001b[0m in \u001b[0;36m<module>\u001b[0;34m()\u001b[0m\n\u001b[1;32m      1\u001b[0m \u001b[0mnp\u001b[0m\u001b[0;34m.\u001b[0m\u001b[0mlookfor\u001b[0m\u001b[0;34m(\u001b[0m\u001b[0;34m'sum'\u001b[0m\u001b[0;34m)\u001b[0m\u001b[0;34m\u001b[0m\u001b[0m\n\u001b[0;32m----> 2\u001b[0;31m \u001b[0mmysum\u001b[0m\u001b[0;34m=\u001b[0m\u001b[0mnp\u001b[0m\u001b[0;34m.\u001b[0m\u001b[0msum\u001b[0m\u001b[0;34m(\u001b[0m\u001b[0mx\u001b[0m\u001b[0;34m,\u001b[0m \u001b[0;36m2\u001b[0m\u001b[0;34m)\u001b[0m\u001b[0;34m\u001b[0m\u001b[0m\n\u001b[0m",
        "\u001b[0;32m/usr/lib/python2.7/dist-packages/numpy/core/fromnumeric.pyc\u001b[0m in \u001b[0;36msum\u001b[0;34m(a, axis, dtype, out, keepdims)\u001b[0m\n\u001b[1;32m   1712\u001b[0m     \u001b[0;32melse\u001b[0m\u001b[0;34m:\u001b[0m\u001b[0;34m\u001b[0m\u001b[0m\n\u001b[1;32m   1713\u001b[0m         return _methods._sum(a, axis=axis, dtype=dtype,\n\u001b[0;32m-> 1714\u001b[0;31m                             out=out, keepdims=keepdims)\n\u001b[0m\u001b[1;32m   1715\u001b[0m \u001b[0;34m\u001b[0m\u001b[0m\n\u001b[1;32m   1716\u001b[0m \u001b[0;32mdef\u001b[0m \u001b[0mproduct\u001b[0m \u001b[0;34m(\u001b[0m\u001b[0ma\u001b[0m\u001b[0;34m,\u001b[0m \u001b[0maxis\u001b[0m\u001b[0;34m=\u001b[0m\u001b[0mNone\u001b[0m\u001b[0;34m,\u001b[0m \u001b[0mdtype\u001b[0m\u001b[0;34m=\u001b[0m\u001b[0mNone\u001b[0m\u001b[0;34m,\u001b[0m \u001b[0mout\u001b[0m\u001b[0;34m=\u001b[0m\u001b[0mNone\u001b[0m\u001b[0;34m,\u001b[0m \u001b[0mkeepdims\u001b[0m\u001b[0;34m=\u001b[0m\u001b[0mFalse\u001b[0m\u001b[0;34m)\u001b[0m\u001b[0;34m:\u001b[0m\u001b[0;34m\u001b[0m\u001b[0m\n",
        "\u001b[0;32m/usr/lib/python2.7/dist-packages/numpy/core/_methods.pyc\u001b[0m in \u001b[0;36m_sum\u001b[0;34m(a, axis, dtype, out, keepdims)\u001b[0m\n\u001b[1;32m     23\u001b[0m \u001b[0;32mdef\u001b[0m \u001b[0m_sum\u001b[0m\u001b[0;34m(\u001b[0m\u001b[0ma\u001b[0m\u001b[0;34m,\u001b[0m \u001b[0maxis\u001b[0m\u001b[0;34m=\u001b[0m\u001b[0mNone\u001b[0m\u001b[0;34m,\u001b[0m \u001b[0mdtype\u001b[0m\u001b[0;34m=\u001b[0m\u001b[0mNone\u001b[0m\u001b[0;34m,\u001b[0m \u001b[0mout\u001b[0m\u001b[0;34m=\u001b[0m\u001b[0mNone\u001b[0m\u001b[0;34m,\u001b[0m \u001b[0mkeepdims\u001b[0m\u001b[0;34m=\u001b[0m\u001b[0mFalse\u001b[0m\u001b[0;34m)\u001b[0m\u001b[0;34m:\u001b[0m\u001b[0;34m\u001b[0m\u001b[0m\n\u001b[1;32m     24\u001b[0m     return um.add.reduce(a, axis=axis, dtype=dtype,\n\u001b[0;32m---> 25\u001b[0;31m                             out=out, keepdims=keepdims)\n\u001b[0m\u001b[1;32m     26\u001b[0m \u001b[0;34m\u001b[0m\u001b[0m\n\u001b[1;32m     27\u001b[0m \u001b[0;32mdef\u001b[0m \u001b[0m_prod\u001b[0m\u001b[0;34m(\u001b[0m\u001b[0ma\u001b[0m\u001b[0;34m,\u001b[0m \u001b[0maxis\u001b[0m\u001b[0;34m=\u001b[0m\u001b[0mNone\u001b[0m\u001b[0;34m,\u001b[0m \u001b[0mdtype\u001b[0m\u001b[0;34m=\u001b[0m\u001b[0mNone\u001b[0m\u001b[0;34m,\u001b[0m \u001b[0mout\u001b[0m\u001b[0;34m=\u001b[0m\u001b[0mNone\u001b[0m\u001b[0;34m,\u001b[0m \u001b[0mkeepdims\u001b[0m\u001b[0;34m=\u001b[0m\u001b[0mFalse\u001b[0m\u001b[0;34m)\u001b[0m\u001b[0;34m:\u001b[0m\u001b[0;34m\u001b[0m\u001b[0m\n",
        "\u001b[0;31mValueError\u001b[0m: 'axis' entry is out of bounds"
       ]
      }
     ],
     "prompt_number": 17
    },
    {
     "cell_type": "code",
     "collapsed": false,
     "input": [
      "np.sum(x, 0)\n",
      "\n"
     ],
     "language": "python",
     "metadata": {},
     "outputs": [
      {
       "metadata": {},
       "output_type": "pyout",
       "prompt_number": 22,
       "text": [
        "array([ 2.65394892,  1.47795315,  2.23000512,  2.37422855])"
       ]
      }
     ],
     "prompt_number": 22
    },
    {
     "cell_type": "markdown",
     "metadata": {},
     "source": [
      "- Construct the array x = np.array([0, 1, 2, 3], dtype=np.uint8) (here, uint8\n",
      "represents a single byte in memory, an unsigned integer between 0 and 255). Can\n",
      "you explain the results obtained by x + 1 and x / 2? Also try x.astype(float) +\n",
      "1 and x.astype(float) / 2."
     ]
    },
    {
     "cell_type": "code",
     "collapsed": false,
     "input": [
      "x = np.array([0, 1, 2, 3], dtype=np.uint8) \n",
      "x"
     ],
     "language": "python",
     "metadata": {},
     "outputs": [
      {
       "metadata": {},
       "output_type": "pyout",
       "prompt_number": 24,
       "text": [
        "array([0, 1, 2, 3], dtype=uint8)"
       ]
      }
     ],
     "prompt_number": 24
    },
    {
     "cell_type": "code",
     "collapsed": false,
     "input": [
      "x/2"
     ],
     "language": "python",
     "metadata": {},
     "outputs": [
      {
       "metadata": {},
       "output_type": "pyout",
       "prompt_number": 26,
       "text": [
        "array([0, 0, 1, 1], dtype=uint8)"
       ]
      }
     ],
     "prompt_number": 26
    },
    {
     "cell_type": "code",
     "collapsed": false,
     "input": [
      "x.astype(float)/2"
     ],
     "language": "python",
     "metadata": {},
     "outputs": [
      {
       "metadata": {},
       "output_type": "pyout",
       "prompt_number": 28,
       "text": [
        "array([ 0. ,  0.5,  1. ,  1.5])"
       ]
      }
     ],
     "prompt_number": 28
    },
    {
     "cell_type": "markdown",
     "metadata": {},
     "source": [
      "- What is the maximum number of dimensions a NumPy array can have? Use one of the\n",
      "array constructors (np.zeros, np.empty, np.random.random, etc.) to find out."
     ]
    },
    {
     "cell_type": "code",
     "collapsed": false,
     "input": [
      "i=0\n",
      "while i<33:\n",
      "    i += 1\n",
      "    arraySize = np.ones((i), dtype = int)\n",
      "    x = np.zeros(arraySize)"
     ],
     "language": "python",
     "metadata": {},
     "outputs": [
      {
       "ename": "ValueError",
       "evalue": "sequence too large; must be smaller than 32",
       "output_type": "pyerr",
       "traceback": [
        "\u001b[0;31m---------------------------------------------------------------------------\u001b[0m\n\u001b[0;31mValueError\u001b[0m                                Traceback (most recent call last)",
        "\u001b[0;32m<ipython-input-31-cda97820afb3>\u001b[0m in \u001b[0;36m<module>\u001b[0;34m()\u001b[0m\n\u001b[1;32m      3\u001b[0m     \u001b[0mi\u001b[0m \u001b[0;34m+=\u001b[0m \u001b[0;36m1\u001b[0m\u001b[0;34m\u001b[0m\u001b[0m\n\u001b[1;32m      4\u001b[0m     \u001b[0marraySize\u001b[0m \u001b[0;34m=\u001b[0m \u001b[0mnp\u001b[0m\u001b[0;34m.\u001b[0m\u001b[0mones\u001b[0m\u001b[0;34m(\u001b[0m\u001b[0;34m(\u001b[0m\u001b[0mi\u001b[0m\u001b[0;34m)\u001b[0m\u001b[0;34m,\u001b[0m \u001b[0mdtype\u001b[0m \u001b[0;34m=\u001b[0m \u001b[0mint\u001b[0m\u001b[0;34m)\u001b[0m\u001b[0;34m\u001b[0m\u001b[0m\n\u001b[0;32m----> 5\u001b[0;31m     \u001b[0mx\u001b[0m \u001b[0;34m=\u001b[0m \u001b[0mnp\u001b[0m\u001b[0;34m.\u001b[0m\u001b[0mzeros\u001b[0m\u001b[0;34m(\u001b[0m\u001b[0marraySize\u001b[0m\u001b[0;34m)\u001b[0m\u001b[0;34m\u001b[0m\u001b[0m\n\u001b[0m",
        "\u001b[0;31mValueError\u001b[0m: sequence too large; must be smaller than 32"
       ]
      }
     ],
     "prompt_number": 31
    },
    {
     "cell_type": "heading",
     "level": 2,
     "metadata": {},
     "source": [
      "Broadcasting"
     ]
    },
    {
     "cell_type": "markdown",
     "metadata": {},
     "source": [
      "## Q1\n",
      "\n",
      "Take a look at the following. Many of you may know it as a meshgrid:\n",
      "\n",
      "```\n",
      "x, y = np.mgrid[:10, :5]\n",
      "z = x + y\n",
      "```\n",
      "\n",
      "Now, reproduce z from the above snippet, but this time use NumPy's\n",
      "``ogrid`` together with broadcasting.\n",
      "\n",
      "In our solution, broadcasting is used \"behind the scenes\". To see what happens\n",
      "more explicitly, apply ``np.broadcast_arrays`` on the ``x`` and ``y`` given by\n",
      "``ogrid``. This should correspond to the ``x`` and ``y`` produced by ``mgrid``.\n",
      "\n",
      "Benchmark the two approaches (one using ``mgrid``, the other ``ogrid``), using\n",
      "IPython's ``%timeit`` function, on a larger grid. Can you explain the difference in\n",
      "execution time?"
     ]
    },
    {
     "cell_type": "code",
     "collapsed": false,
     "input": [
      "x, y = np.mgrid[:10, :5]\n",
      "z = x + y\n",
      "z"
     ],
     "language": "python",
     "metadata": {},
     "outputs": [
      {
       "metadata": {},
       "output_type": "pyout",
       "prompt_number": 35,
       "text": [
        "array([[ 0,  1,  2,  3,  4],\n",
        "       [ 1,  2,  3,  4,  5],\n",
        "       [ 2,  3,  4,  5,  6],\n",
        "       [ 3,  4,  5,  6,  7],\n",
        "       [ 4,  5,  6,  7,  8],\n",
        "       [ 5,  6,  7,  8,  9],\n",
        "       [ 6,  7,  8,  9, 10],\n",
        "       [ 7,  8,  9, 10, 11],\n",
        "       [ 8,  9, 10, 11, 12],\n",
        "       [ 9, 10, 11, 12, 13]])"
       ]
      }
     ],
     "prompt_number": 35
    },
    {
     "cell_type": "code",
     "collapsed": false,
     "input": [
      "x, y = np.ogrid[:10, :5]\n",
      "z = x + y\n",
      "x.shape, y.shape"
     ],
     "language": "python",
     "metadata": {},
     "outputs": [
      {
       "metadata": {},
       "output_type": "pyout",
       "prompt_number": 38,
       "text": [
        "((10, 1), (1, 5))"
       ]
      }
     ],
     "prompt_number": 38
    },
    {
     "cell_type": "markdown",
     "metadata": {},
     "source": [
      "## Q2\n",
      "\n",
      "Given a list of XYZ-coordinates, ``p``,\n",
      "\n",
      "```\n",
      "[[1.0, 2.0, 10],\n",
      " [3.0, 4.0, 20],\n",
      " [5.0, 6.0, 30],\n",
      " [7.0, 8.0, 40]]\n",
      "```\n",
      "\n",
      "Normalise each coordinate by dividing with its Z (3rd) element. For example,\n",
      "the first row becomes:\n",
      "\n",
      "```\n",
      "[1/10, 2/10, 10/10]\n",
      "```\n",
      "\n",
      "> **Hint:** extract the last column as ``y``, and then change its dimensions so\n",
      "> that ``p / y`` works."
     ]
    },
    {
     "cell_type": "code",
     "collapsed": false,
     "input": [
      "p = np.array([[1.0, 2.0, 10],\n",
      " [3.0, 4.0, 20],\n",
      " [5.0, 6.0, 30],\n",
      " [7.0, 8.0, 40]])\n",
      "y = p[:,2]\n",
      "p.shape, y.shape"
     ],
     "language": "python",
     "metadata": {},
     "outputs": [
      {
       "metadata": {},
       "output_type": "pyout",
       "prompt_number": 50,
       "text": [
        "((4, 3), (4,))"
       ]
      }
     ],
     "prompt_number": 50
    },
    {
     "cell_type": "heading",
     "level": 2,
     "metadata": {},
     "source": [
      "Indexing"
     ]
    },
    {
     "cell_type": "code",
     "collapsed": false,
     "input": [
      "z = y[:, np.newaxis]\n",
      "z.shape, p.shape\n",
      "p/z"
     ],
     "language": "python",
     "metadata": {},
     "outputs": [
      {
       "metadata": {},
       "output_type": "pyout",
       "prompt_number": 52,
       "text": [
        "array([[ 0.1       ,  0.2       ,  1.        ],\n",
        "       [ 0.15      ,  0.2       ,  1.        ],\n",
        "       [ 0.16666667,  0.2       ,  1.        ],\n",
        "       [ 0.175     ,  0.2       ,  1.        ]])"
       ]
      }
     ],
     "prompt_number": 52
    },
    {
     "cell_type": "markdown",
     "metadata": {},
     "source": [
      "## Q1\n",
      "\n",
      "Create a ``3x3`` ndarray. Use fancy indexing to slice out the diagonal elements."
     ]
    },
    {
     "cell_type": "code",
     "collapsed": false,
     "input": [
      "a = np.arange(9).reshape((3,3))\n",
      "a"
     ],
     "language": "python",
     "metadata": {},
     "outputs": [
      {
       "metadata": {},
       "output_type": "pyout",
       "prompt_number": 59,
       "text": [
        "array([[0, 1, 2],\n",
        "       [3, 4, 5],\n",
        "       [6, 7, 8]])"
       ]
      }
     ],
     "prompt_number": 59
    },
    {
     "cell_type": "code",
     "collapsed": false,
     "input": [
      "x, y = np.mgrid[0:3, 0:2]\n",
      "x, x.shape"
     ],
     "language": "python",
     "metadata": {},
     "outputs": [
      {
       "metadata": {},
       "output_type": "pyout",
       "prompt_number": 75,
       "text": [
        "(array([[0, 0],\n",
        "        [1, 1],\n",
        "        [2, 2]]), (3, 2))"
       ]
      }
     ],
     "prompt_number": 75
    },
    {
     "cell_type": "code",
     "collapsed": false,
     "input": [
      "a[0], a[0]"
     ],
     "language": "python",
     "metadata": {},
     "outputs": [
      {
       "metadata": {},
       "output_type": "pyout",
       "prompt_number": 79,
       "text": [
        "(array([0, 1, 2]), array([0, 1, 2]))"
       ]
      }
     ],
     "prompt_number": 79
    },
    {
     "cell_type": "code",
     "collapsed": false,
     "input": [
      "a[np.arange(3), np.arange(3)]"
     ],
     "language": "python",
     "metadata": {},
     "outputs": [
      {
       "metadata": {},
       "output_type": "pyout",
       "prompt_number": 80,
       "text": [
        "array([0, 4, 8])"
       ]
      }
     ],
     "prompt_number": 80
    },
    {
     "cell_type": "markdown",
     "metadata": {},
     "source": [
      "## Q2\n",
      "\n",
      "Generate a 10 x 3 array of random numbers (all between 0 and 1). From each row, pick\n",
      "the number closest to 0.75. Make use of ``np.abs`` and ``np.argmax`` to find the\n",
      "column ``j`` which contains the closest element in each row."
     ]
    },
    {
     "cell_type": "code",
     "collapsed": false,
     "input": [
      "a = np.random.random((10,3))\n",
      "a"
     ],
     "language": "python",
     "metadata": {},
     "outputs": [
      {
       "metadata": {},
       "output_type": "pyout",
       "prompt_number": 81,
       "text": [
        "array([[ 0.58869875,  0.31359087,  0.52302882],\n",
        "       [ 0.44682556,  0.16245404,  0.14108137],\n",
        "       [ 0.66871919,  0.76535711,  0.64040185],\n",
        "       [ 0.60063745,  0.27561106,  0.56610197],\n",
        "       [ 0.76377418,  0.4863274 ,  0.99644325],\n",
        "       [ 0.99687773,  0.06369207,  0.18099781],\n",
        "       [ 0.68436285,  0.40936141,  0.43485259],\n",
        "       [ 0.51590943,  0.9650221 ,  0.18036879],\n",
        "       [ 0.87501551,  0.512575  ,  0.66585901],\n",
        "       [ 0.86481095,  0.01043503,  0.33905209]])"
       ]
      }
     ],
     "prompt_number": 81
    },
    {
     "cell_type": "code",
     "collapsed": false,
     "input": [
      "#b = a[(i, np.argmin(np.abs(a[i,:]-0.75)) for i in range(10)]\n",
      "ix = np.argmin(np.abs(a-0.75), axis=1)\n",
      "a[np.arange(a.shape[0]), ix]"
     ],
     "language": "python",
     "metadata": {},
     "outputs": [
      {
       "metadata": {},
       "output_type": "pyout",
       "prompt_number": 102,
       "text": [
        "array([ 0.58869875,  0.44682556,  0.76535711,  0.60063745,  0.76377418,\n",
        "        0.99687773,  0.68436285,  0.9650221 ,  0.66585901,  0.86481095])"
       ]
      }
     ],
     "prompt_number": 102
    },
    {
     "cell_type": "code",
     "collapsed": false,
     "input": [
      "idx=np.arange(10)\n",
      "np.argmax(a[idx, :])"
     ],
     "language": "python",
     "metadata": {},
     "outputs": [
      {
       "metadata": {},
       "output_type": "pyout",
       "prompt_number": 93,
       "text": [
        "15"
       ]
      }
     ],
     "prompt_number": 93
    },
    {
     "cell_type": "markdown",
     "metadata": {},
     "source": [
      "## Q3\n",
      "\n",
      "Predict and verify the shape of the following slicing operation.\n",
      "\n",
      "```python\n",
      "x = np.empty((10, 8, 6))\n",
      "\n",
      "idx0 = np.zeros((3, 8)).astype(int)\n",
      "idx1 = np.zeros((3, 1)).astype(int)\n",
      "idx2 = np.zeros((1, 1)).astype(int)\n",
      "\n",
      "x[idx0, idx1, idx2]\n",
      "```"
     ]
    },
    {
     "cell_type": "markdown",
     "metadata": {},
     "source": [
      "## Q4 [advanced]\n",
      "\n",
      "Strictly speaking, this is not a question on indexing, but it's a fun\n",
      "exercise either way.\n",
      "\n",
      "Construct an array\n",
      "\n",
      "```\n",
      "x = np.arange(12, dtype=np.int32).reshape((3, 4))\n",
      "```\n",
      "\n",
      "so that ``x`` is\n",
      "\n",
      "```\n",
      "array([[ 0,  1,  2,  3],\n",
      "       [ 4,  5,  6,  7],\n",
      "       [ 8,  9, 10, 11]])\n",
      "```\n",
      "\n",
      "Now, provide to ``np.lib.stride_tricks.as_strided`` the strides necessary to view a\n",
      "sliding ``2x2`` window over this array. The output should be\n",
      "\n",
      "```\n",
      "array([[[[ 0,  1],\n",
      "         [ 4,  5]],\n",
      "\n",
      "        [[ 1,  2],\n",
      "         [ 5,  6]],\n",
      "\n",
      "        [[ 2,  3],\n",
      "         [ 6,  7]]],\n",
      "\n",
      "\n",
      "       [[[ 4,  5],\n",
      "         [ 8,  9]],\n",
      "\n",
      "        [[ 5,  6],\n",
      "         [ 9, 10]],\n",
      "\n",
      "        [[ 6,  7],\n",
      "         [10, 11]]]], dtype=int32)\n",
      "```\n",
      "\n",
      "The code is of the form\n",
      "\n",
      "```\n",
      "z = as_strided(x, shape=(2, 3, 2, 2),\n",
      "                  strides=(..., ..., ..., ...))\n",
      "```\n",
      "\n",
      "This sort of stride manipulation is handy for implementing techniques such as\n",
      "region based statistics, convolutions, etc."
     ]
    },
    {
     "cell_type": "heading",
     "level": 2,
     "metadata": {},
     "source": [
      "Structured Arrays"
     ]
    },
    {
     "cell_type": "markdown",
     "metadata": {},
     "source": [
      "### Q1: Structured data types\n",
      "\n",
      "Design a data-type for storing the following record:\n",
      "\n",
      " - Timestamp in nanoseconds (a 64-bit unsigned integer)\n",
      " - Position (x- and y-coordinates, stored as floating point numbers)\n",
      "\n",
      "Use it to represent the following data:\n",
      "\n",
      "```\n",
      "dt = np.dtype(<your code here>)\n",
      "x = np.array([(100, (0, 0.5)),\n",
      "              (200, (0, 10.3)),\n",
      "              (300, (5.5, 15.1))], dtype=dt)\n",
      "```\n",
      "\n",
      "Have a look at the ``np.dtype`` docstring if you need help.\n",
      "After constructing ``x``, try to print all the ``x`` values for which time\n",
      "is greater than 100 (hint: something of the form ``y[y > 100]``)."
     ]
    },
    {
     "cell_type": "markdown",
     "metadata": {},
     "source": [
      "### Q2: Structured file I/O\n",
      "\n",
      "Place the following data in a text file, ``data.txt``:\n",
      "\n",
      "```\n",
      "% rank         lemma (10 letters max)      frequency       dispersion\n",
      "21             they                        1865844         0.96\n",
      "42             her                         969591          0.91\n",
      "49             as                          829018          0.95\n",
      "7              to                          6332195         0.98\n",
      "63             take                        670745          0.97\n",
      "14             you                         3085642         0.92\n",
      "35             go                          1151045         0.93\n",
      "56             think                       772787          0.91\n",
      "28             not                         1638883         0.98\n",
      "```\n",
      "\n",
      "Now, design a suitable structured data type, then load the data from the text\n",
      "file using ``np.loadtxt`` (look at the docstring to see how to handle\n",
      "the '%' comment character).  Here's a skeleton to start with:\n",
      "\n",
      "```python\n",
      "import numpy as np\n",
      "txtdata = open('data.txt', 'r')\n",
      "\n",
      "# Construct the data-type\n",
      "# In IPython type np.dtype?<ENTER> for examples, e.g.,\n",
      "#\n",
      "# np.dtype([('x', np.float), ('y', np.int), ('z', np.uint8)])\n",
      "\n",
      "dt = np.dtype(...)  # Modify this line to give the correct answer\n",
      "\n",
      "data = np.loadtxt(...)  # Load data with loadtxt\n",
      "\n",
      "```\n",
      "\n",
      "Examine the data you got, for example:\n",
      " - Extract words only\n",
      " - Extract the 3rd row\n",
      " - Print all words with ``rank < 30``\n",
      "\n",
      "Sort the data according to frequency (see np.sort).\n",
      "\n",
      "Save the result to a compressed Numpy data file, ``sorted.npz``, using\n",
      "``np.savez`` and load it back with ``out = np.load(...)``.\n",
      "\n",
      "Do you get back what you put in?  If not, use ``dir(out)`` or\n",
      "TAB-completion on ``out`` to figure out how to access the data\n",
      "(HINT: `out` behaves like a dictionary)."
     ]
    },
    {
     "cell_type": "heading",
     "level": 2,
     "metadata": {},
     "source": [
      "Array Interface"
     ]
    },
    {
     "cell_type": "markdown",
     "metadata": {},
     "source": [
      "An author of a foreign package (included with the exercizes as\n",
      "``problems/mutable_str.py``) provides a string class that\n",
      "allocates its own memory:\n",
      "\n",
      "```ipython\n",
      "In [1]: from mutable_str import MutableString\n",
      "In [2]: s = MutableString('abcde')\n",
      "In [3]: print s\n",
      "abcde\n",
      "```\n",
      "\n",
      "You'd like to view these mutable (*mutable* means the ability to modify in place)\n",
      "strings as ndarrays, in order to manipulate the underlying memory.\n",
      "\n",
      "Add an __array_interface__ dictionary attribute to s, then convert s to an\n",
      "ndarray. Numerically add \"2\" to the array (use the in-place operator ``+=``).\n",
      "\n",
      "Then print the original string to ensure that its value was modified.\n",
      "\n",
      "Here's a skeleton outline:\n",
      "\n",
      "```python\n",
      "import numpy as np\n",
      "from mutable_str import MutableString\n",
      "\n",
      "s = MutableString('abcde')\n",
      "\n",
      "# --- EDIT THIS SECTION ---\n",
      "\n",
      "# Create an array interface to this foreign object\n",
      "s.__array_interface__ = {'data' : (XXX, False), # (ptr, is read_only?)\n",
      "                         'shape' : XXX,\n",
      "                         'typestr' : '|u1', # typecode unsigned character\n",
      "                         }\n",
      "\n",
      "# --- EDIT THIS SECTION ---\n",
      "\n",
      "print 'String before converting to array:', s\n",
      "sa = np.asarray(s)\n",
      "\n",
      "print 'String after converting to array:', sa\n",
      "\n",
      "sa += 2\n",
      "print 'String after adding \"2\" to array:', s\n",
      "\n",
      "```\n",
      "\n",
      "> **Hint:** Documentation for NumPy's ``__array_interface__``\n",
      "  may be found [in the online docs](http://docs.scipy.org/doc/numpy/reference/arrays.interface.html)."
     ]
    },
    {
     "cell_type": "heading",
     "level": 2,
     "metadata": {},
     "source": [
      "Advanced Exercises"
     ]
    },
    {
     "cell_type": "markdown",
     "metadata": {},
     "source": [
      "### Q1\n",
      "\n",
      "Construct the following two arrays:\n",
      "\n",
      "```\n",
      "x = np.array([[1, 2], [3, 4]], order='C', dtype=np.uint8)\n",
      "y = np.array([[1, 2], [3, 4]], order='F', dtype=np.uint8)\n",
      "```\n",
      "\n",
      "Compare the bytes they store in memory by using\n",
      "\n",
      "```\n",
      "[ord(c) for c in x.data]\n",
      "```\n",
      "\n",
      "Note that, even though these arrays store data in different memory order, they\n",
      "are identical from the user's perspective.\n",
      "\n",
      "```\n",
      "print x\n",
      "print y\n",
      "```\n",
      "\n",
      "Examine the bytes stored by the following array (using the \"ord\" trick shown\n",
      "above).\n",
      "\n",
      "```\n",
      "x = np.array([[1, 2], [3, 4]], dtype=np.uint32)\n",
      "```\n",
      "\n",
      "Note that, on most laptops, the byte order will be little Endian, i.e. least\n",
      "significant byte first."
     ]
    },
    {
     "cell_type": "heading",
     "level": 2,
     "metadata": {},
     "source": [
      "Very Advanced Exercises"
     ]
    },
    {
     "cell_type": "markdown",
     "metadata": {},
     "source": [
      "### Q1 : Tensordot\n",
      "\n",
      "Consider a set of p matrices, each with shape ``(n, n)``, and a set of p vectors,\n",
      "each with shape ``(n, 1)``.\n",
      "\n",
      "Compute the sum of their p matrix products using a single call to ``np.tensordot``.  The result\n",
      "has shape ``(n, 1)``.\n",
      "\n",
      "Start with the following code as template:\n",
      "\n",
      "```python\n",
      "p, n = 10, 20\n",
      "M = np.ones((p,n,n))\n",
      "V = np.ones((p,n,1))\n",
      "\n",
      "S = np.tensordot(M, V, ...)\n",
      "\n",
      "print S\n",
      "```\n",
      "\n",
      "Example run:\n",
      "\n",
      "```python\n",
      "X = np.array([[[1, 1],\n",
      "              [1, 1]],\n",
      "\n",
      "             [[2, 2],\n",
      "              [2, 2]]])\n",
      "```\n",
      "\n",
      "``X.shape`` is ``(2, 2, 2)``, i.e. we have two arrays of ``(2, 2)``.\n",
      "\n",
      "```python\n",
      "Y = np.array([[[1],\n",
      "               [1]],\n",
      "\n",
      "              [[2],\n",
      "               [2]]])\n",
      "```\n",
      "            \n",
      "``Y.shape`` is ``(2, 2, 1)``, i.e. we have two vectors of ``(2, 1)``.\n",
      "\n",
      "```python\n",
      "out = np.tensordot(X, Y, ...)\n",
      "```\n",
      "\n",
      "The output is:\n",
      "\n",
      "```\n",
      "array([[10],\n",
      "       [10]])\n",
      "```\n",
      "\n",
      "> **Additional note:** Since v1.8, numpy implements ``dot`` as a generalised ufunc, which means that it can\n",
      "> be applied to stacks of matrices."
     ]
    },
    {
     "cell_type": "markdown",
     "metadata": {},
     "source": [
      "### Q2\n",
      "\n",
      "Attempt the [Fortran-ordering quiz](http://mentat.za.net/numpy/quiz/)."
     ]
    },
    {
     "cell_type": "markdown",
     "metadata": {},
     "source": [
      "<div style=\"height: 400px;\"/>"
     ]
    },
    {
     "cell_type": "code",
     "collapsed": false,
     "input": [
      "%reload_ext load_style\n",
      "%load_style css/exercises.css"
     ],
     "language": "python",
     "metadata": {},
     "outputs": [
      {
       "html": [
        "<style>\n",
        ".rendered_html {\n",
        "    font-family: Georgia, serif;\n",
        "    font-size: 110%;\n",
        "    line-height: 1.5;\n",
        "}\n",
        "\n",
        ".input {\n",
        "    width: 930px;\n",
        "}\n",
        "\n",
        ".inner_cell {\n",
        "    width: 800px;\n",
        "}\n",
        "\n",
        ".code_cell {\n",
        "    width: 800px;\n",
        "}\n",
        "\n",
        ".CodeMirror-sizer {\n",
        "}\n",
        "\n",
        "hr {\n",
        "    border: 1px solid #DDD;\n",
        "}\n",
        "\n",
        ".rendered_html h1 {\n",
        "    margin: 0.25em 0em 0.5em;\n",
        "    font-family: sans-serif;\n",
        "    color: #015C9C;\n",
        "    text-align: center;\n",
        "    line-height: 1.2;\n",
        "    page-break-before: always;\n",
        "}\n",
        "\n",
        ".rendered_html h2 {\n",
        "    margin: 1.1em 0em 0.5em;\n",
        "    font-family: sans-serif;\n",
        "    color: #26465D;\n",
        "    line-height: 1.2;\n",
        "}\n",
        "\n",
        ".rendered_html h3 {\n",
        "    font-family: sans-serif;\n",
        "    margin: 1.1em 0em 0.5em;\n",
        "    color: #002845;\n",
        "    line-height: 1.2;\n",
        "}\n",
        "\n",
        ".rendered_html li {\n",
        "    line-height: 1.5;\n",
        "}\n",
        "\n",
        ".CodeMirror-lines {\n",
        "    font-size: 110%;\n",
        "    line-height: 1.4em;\n",
        "    font-family: DejaVu Sans Mono, Consolas, Ubuntu, monospace;\n",
        "}\n",
        "\n",
        "h1.bigtitle {\n",
        "    margin: 4cm 1cm 4cm 1cm;\n",
        "    font-size: 300%;\n",
        "}\n",
        "\n",
        "h3.point {\n",
        "    font-size: 200%;\n",
        "    text-align: center;\n",
        "    margin: 2em 0em 2em 0em;\n",
        "    #26465D\n",
        "}\n",
        "\n",
        ".logo {\n",
        "    margin: 20px 0 20px 0;\n",
        "}\n",
        "\n",
        "a.anchor-link {\n",
        "    display: none;\n",
        "}\n",
        "\n",
        "h1.title {\n",
        "    font-size: 250%;\n",
        "}\n",
        "\n",
        ".exercize {\n",
        "    color: #738;\n",
        "}\n",
        "\n",
        "h2 .exercize {\n",
        "    font-style: italic;\n",
        "}\n",
        "\n",
        "</style>"
       ],
       "metadata": {},
       "output_type": "display_data",
       "text": [
        "<IPython.core.display.HTML object>"
       ]
      }
     ],
     "prompt_number": 1
    }
   ],
   "metadata": {}
  }
 ]
}